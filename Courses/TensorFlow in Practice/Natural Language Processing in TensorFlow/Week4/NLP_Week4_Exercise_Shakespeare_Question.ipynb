{
 "cells": [
  {
   "cell_type": "code",
   "execution_count": 4,
   "metadata": {
    "colab": {
     "base_uri": "https://localhost:8080/",
     "height": 62
    },
    "colab_type": "code",
    "id": "BOwsuGQQY9OL",
    "outputId": "9ac5f7fc-ad0d-4552-f28c-82e98cc0745a"
   },
   "outputs": [],
   "source": [
    "from tensorflow.keras.preprocessing.sequence import pad_sequences\n",
    "from tensorflow.keras.layers import Embedding, LSTM, Dense, Dropout, Bidirectional\n",
    "from tensorflow.keras.preprocessing.text import Tokenizer\n",
    "from tensorflow.keras.models import Sequential\n",
    "from tensorflow.keras.optimizers import Adam\n",
    "### YOUR CODE HERE\n",
    "\n",
    "from tensorflow.keras import regularizers\n",
    "\n",
    "###\n",
    "import tensorflow.keras.utils as ku \n",
    "import numpy as np "
   ]
  },
  {
   "cell_type": "code",
   "execution_count": 5,
   "metadata": {
    "colab": {
     "base_uri": "https://localhost:8080/",
     "height": 202
    },
    "colab_type": "code",
    "id": "PRnDnCW-Z7qv",
    "outputId": "dad4c5ae-4e92-4d2f-e1fb-b1e857955f2f"
   },
   "outputs": [],
   "source": [
    "tokenizer = Tokenizer()\n",
    "#!wget --no-check-certificate \\\n",
    "#    https://storage.googleapis.com/laurencemoroney-blog.appspot.com/sonnets.txt \\\n",
    "#    -O ./tmp/sonnets.txt\n",
    "data = open('./tmp/nlp_w4/sonnets.txt', encoding=\"utf8\").read()\n",
    "\n",
    "corpus = data.lower().split(\"\\n\")\n",
    "\n",
    "\n",
    "tokenizer.fit_on_texts(corpus)\n",
    "total_words = len(tokenizer.word_index) + 1\n",
    "\n",
    "# create input sequences using list of tokens\n",
    "input_sequences = []\n",
    "for line in corpus:\n",
    "\ttoken_list = tokenizer.texts_to_sequences([line])[0]\n",
    "\tfor i in range(1, len(token_list)):\n",
    "\t\tn_gram_sequence = token_list[:i+1]\n",
    "\t\tinput_sequences.append(n_gram_sequence)\n",
    "\n",
    "\n",
    "# pad sequences \n",
    "max_sequence_len = max([len(x) for x in input_sequences])\n",
    "input_sequences = np.array(pad_sequences(input_sequences, maxlen=max_sequence_len, padding='pre'))\n",
    "\n",
    "# create predictors and label\n",
    "predictors, label = input_sequences[:,:-1],input_sequences[:,-1]\n",
    "\n",
    "label = ku.to_categorical(label, num_classes=total_words)"
   ]
  },
  {
   "cell_type": "code",
   "execution_count": 6,
   "metadata": {
    "colab": {
     "base_uri": "https://localhost:8080/",
     "height": 370
    },
    "colab_type": "code",
    "id": "w9vH8Y59ajYL",
    "outputId": "27ed9022-67e9-4d75-d7b8-b2979c208f6e"
   },
   "outputs": [
    {
     "name": "stdout",
     "output_type": "stream",
     "text": [
      "Model: \"sequential_1\"\n",
      "_________________________________________________________________\n",
      "Layer (type)                 Output Shape              Param #   \n",
      "=================================================================\n",
      "embedding_1 (Embedding)      (None, 10, 100)           321100    \n",
      "_________________________________________________________________\n",
      "bidirectional_1 (Bidirection (None, 10, 300)           301200    \n",
      "_________________________________________________________________\n",
      "dropout_1 (Dropout)          (None, 10, 300)           0         \n",
      "_________________________________________________________________\n",
      "lstm_3 (LSTM)                (None, 100)               160400    \n",
      "_________________________________________________________________\n",
      "dense (Dense)                (None, 1605)              162105    \n",
      "_________________________________________________________________\n",
      "dense_1 (Dense)              (None, 3211)              5156866   \n",
      "=================================================================\n",
      "Total params: 6,101,671\n",
      "Trainable params: 6,101,671\n",
      "Non-trainable params: 0\n",
      "_________________________________________________________________\n",
      "None\n"
     ]
    }
   ],
   "source": [
    "model = Sequential()\n",
    "model.add(Embedding(total_words, 100, input_length=max_sequence_len-1))\n",
    "model.add(Bidirectional(LSTM(150, return_sequences = True)))\n",
    "model.add(Dropout(0.2))\n",
    "model.add(LSTM(100))\n",
    "model.add(Dense(total_words/2, activation='relu', kernel_regularizer=regularizers.l2(0.01)))\n",
    "model.add(Dense(total_words, activation='softmax'))\n",
    "model.compile(loss='categorical_crossentropy', optimizer='adam', metrics=['accuracy'])\n",
    "print(model.summary())"
   ]
  },
  {
   "cell_type": "code",
   "execution_count": 7,
   "metadata": {
    "colab": {
     "base_uri": "https://localhost:8080/",
     "height": 638
    },
    "colab_type": "code",
    "id": "AIg2f1HBxqof",
    "outputId": "830c0467-99f5-47bf-c68e-0cc6b2913b20"
   },
   "outputs": [
    {
     "name": "stdout",
     "output_type": "stream",
     "text": [
      "Train on 15462 samples\n",
      "Epoch 1/100\n",
      "15462/15462 [==============================] - 8s 549us/sample - loss: 6.9131 - accuracy: 0.0223\n",
      "Epoch 2/100\n",
      "15462/15462 [==============================] - 4s 284us/sample - loss: 6.5024 - accuracy: 0.0235\n",
      "Epoch 3/100\n",
      "15462/15462 [==============================] - 4s 280us/sample - loss: 6.3918 - accuracy: 0.0270\n",
      "Epoch 4/100\n",
      "15462/15462 [==============================] - 4s 283us/sample - loss: 6.2675 - accuracy: 0.0301\n",
      "Epoch 5/100\n",
      "15462/15462 [==============================] - 4s 278us/sample - loss: 6.1783 - accuracy: 0.0360\n",
      "Epoch 6/100\n",
      "15462/15462 [==============================] - 4s 276us/sample - loss: 6.1009 - accuracy: 0.0383\n",
      "Epoch 7/100\n",
      "15462/15462 [==============================] - 4s 277us/sample - loss: 6.0294 - accuracy: 0.0389\n",
      "Epoch 8/100\n",
      "15462/15462 [==============================] - 4s 277us/sample - loss: 5.9505 - accuracy: 0.0453\n",
      "Epoch 9/100\n",
      "15462/15462 [==============================] - 4s 287us/sample - loss: 5.8552 - accuracy: 0.0512\n",
      "Epoch 10/100\n",
      "15462/15462 [==============================] - 5s 294us/sample - loss: 5.7578 - accuracy: 0.0564\n",
      "Epoch 11/100\n",
      "15462/15462 [==============================] - 5s 309us/sample - loss: 5.6610 - accuracy: 0.0618\n",
      "Epoch 12/100\n",
      "15462/15462 [==============================] - 4s 280us/sample - loss: 5.5610 - accuracy: 0.0661\n",
      "Epoch 13/100\n",
      "15462/15462 [==============================] - 4s 278us/sample - loss: 5.4629 - accuracy: 0.0715\n",
      "Epoch 14/100\n",
      "15462/15462 [==============================] - 4s 271us/sample - loss: 5.3613 - accuracy: 0.0804\n",
      "Epoch 15/100\n",
      "15462/15462 [==============================] - 4s 273us/sample - loss: 5.2534 - accuracy: 0.0866\n",
      "Epoch 16/100\n",
      "15462/15462 [==============================] - 5s 293us/sample - loss: 5.1521 - accuracy: 0.0925\n",
      "Epoch 17/100\n",
      "15462/15462 [==============================] - 4s 291us/sample - loss: 5.0500 - accuracy: 0.1015\n",
      "Epoch 18/100\n",
      "15462/15462 [==============================] - 4s 286us/sample - loss: 4.9467 - accuracy: 0.1106\n",
      "Epoch 19/100\n",
      "15462/15462 [==============================] - 4s 286us/sample - loss: 4.8403 - accuracy: 0.1177\n",
      "Epoch 20/100\n",
      "15462/15462 [==============================] - 4s 282us/sample - loss: 4.7351 - accuracy: 0.1301\n",
      "Epoch 21/100\n",
      "15462/15462 [==============================] - 4s 279us/sample - loss: 4.6316 - accuracy: 0.1393\n",
      "Epoch 22/100\n",
      "15462/15462 [==============================] - 4s 277us/sample - loss: 4.5275 - accuracy: 0.1499\n",
      "Epoch 23/100\n",
      "15462/15462 [==============================] - 4s 283us/sample - loss: 4.4249 - accuracy: 0.1614\n",
      "Epoch 24/100\n",
      "15462/15462 [==============================] - 4s 285us/sample - loss: 4.3261 - accuracy: 0.1698\n",
      "Epoch 25/100\n",
      "15462/15462 [==============================] - 4s 289us/sample - loss: 4.2162 - accuracy: 0.1868\n",
      "Epoch 26/100\n",
      "15462/15462 [==============================] - 4s 277us/sample - loss: 4.1200 - accuracy: 0.1979\n",
      "Epoch 27/100\n",
      "15462/15462 [==============================] - 4s 280us/sample - loss: 4.0090 - accuracy: 0.2123\n",
      "Epoch 28/100\n",
      "15462/15462 [==============================] - 4s 278us/sample - loss: 3.9180 - accuracy: 0.2298\n",
      "Epoch 29/100\n",
      "15462/15462 [==============================] - 4s 278us/sample - loss: 3.8120 - accuracy: 0.2424\n",
      "Epoch 30/100\n",
      "15462/15462 [==============================] - 4s 276us/sample - loss: 3.7193 - accuracy: 0.2650\n",
      "Epoch 31/100\n",
      "15462/15462 [==============================] - 4s 278us/sample - loss: 3.6287 - accuracy: 0.2820\n",
      "Epoch 32/100\n",
      "15462/15462 [==============================] - 4s 276us/sample - loss: 3.5406 - accuracy: 0.2989\n",
      "Epoch 33/100\n",
      "15462/15462 [==============================] - 4s 277us/sample - loss: 3.4541 - accuracy: 0.3144\n",
      "Epoch 34/100\n",
      "15462/15462 [==============================] - 4s 280us/sample - loss: 3.3521 - accuracy: 0.3411\n",
      "Epoch 35/100\n",
      "15462/15462 [==============================] - 4s 284us/sample - loss: 3.2784 - accuracy: 0.3533\n",
      "Epoch 36/100\n",
      "15462/15462 [==============================] - 4s 282us/sample - loss: 3.2009 - accuracy: 0.3744\n",
      "Epoch 37/100\n",
      "15462/15462 [==============================] - 5s 319us/sample - loss: 3.1309 - accuracy: 0.3888\n",
      "Epoch 38/100\n",
      "15462/15462 [==============================] - 5s 298us/sample - loss: 3.0556 - accuracy: 0.4049\n",
      "Epoch 39/100\n",
      "15462/15462 [==============================] - 4s 285us/sample - loss: 2.9817 - accuracy: 0.4201\n",
      "Epoch 40/100\n",
      "15462/15462 [==============================] - 5s 294us/sample - loss: 2.9106 - accuracy: 0.4377\n",
      "Epoch 41/100\n",
      "15462/15462 [==============================] - 5s 303us/sample - loss: 2.8451 - accuracy: 0.4476\n",
      "Epoch 42/100\n",
      "15462/15462 [==============================] - 4s 289us/sample - loss: 2.7837 - accuracy: 0.4619\n",
      "Epoch 43/100\n",
      "15462/15462 [==============================] - 4s 274us/sample - loss: 2.7159 - accuracy: 0.4769\n",
      "Epoch 44/100\n",
      "15462/15462 [==============================] - 4s 282us/sample - loss: 2.6559 - accuracy: 0.4960\n",
      "Epoch 45/100\n",
      "15462/15462 [==============================] - 4s 286us/sample - loss: 2.6004 - accuracy: 0.5085\n",
      "Epoch 46/100\n",
      "15462/15462 [==============================] - 5s 299us/sample - loss: 2.5488 - accuracy: 0.5166\n",
      "Epoch 47/100\n",
      "15462/15462 [==============================] - 4s 272us/sample - loss: 2.4859 - accuracy: 0.5320\n",
      "Epoch 48/100\n",
      "15462/15462 [==============================] - 4s 271us/sample - loss: 2.4391 - accuracy: 0.5404\n",
      "Epoch 49/100\n",
      "15462/15462 [==============================] - 4s 277us/sample - loss: 2.3885 - accuracy: 0.5513\n",
      "Epoch 50/100\n",
      "15462/15462 [==============================] - 4s 275us/sample - loss: 2.3330 - accuracy: 0.5653\n",
      "Epoch 51/100\n",
      "15462/15462 [==============================] - 4s 271us/sample - loss: 2.3002 - accuracy: 0.5703\n",
      "Epoch 52/100\n",
      "15462/15462 [==============================] - 4s 283us/sample - loss: 2.2455 - accuracy: 0.5839\n",
      "Epoch 53/100\n",
      "15462/15462 [==============================] - 4s 290us/sample - loss: 2.2051 - accuracy: 0.5916\n",
      "Epoch 54/100\n",
      "15462/15462 [==============================] - 5s 292us/sample - loss: 2.1744 - accuracy: 0.5982\n",
      "Epoch 55/100\n",
      "15462/15462 [==============================] - 4s 285us/sample - loss: 2.1211 - accuracy: 0.6081\n",
      "Epoch 56/100\n",
      "15462/15462 [==============================] - 4s 284us/sample - loss: 2.0818 - accuracy: 0.6222\n",
      "Epoch 57/100\n",
      "15462/15462 [==============================] - 4s 279us/sample - loss: 2.0469 - accuracy: 0.6298\n",
      "Epoch 58/100\n",
      "15462/15462 [==============================] - 4s 278us/sample - loss: 1.9997 - accuracy: 0.6376\n",
      "Epoch 59/100\n",
      "15462/15462 [==============================] - 4s 277us/sample - loss: 1.9634 - accuracy: 0.6469\n",
      "Epoch 60/100\n",
      "15462/15462 [==============================] - 4s 278us/sample - loss: 1.9344 - accuracy: 0.6488\n",
      "Epoch 61/100\n",
      "15462/15462 [==============================] - 4s 277us/sample - loss: 1.9072 - accuracy: 0.6576\n",
      "Epoch 62/100\n",
      "15462/15462 [==============================] - 4s 277us/sample - loss: 1.8710 - accuracy: 0.6650\n",
      "Epoch 63/100\n",
      "15462/15462 [==============================] - 4s 278us/sample - loss: 1.8421 - accuracy: 0.6702\n",
      "Epoch 64/100\n",
      "15462/15462 [==============================] - 4s 279us/sample - loss: 1.8147 - accuracy: 0.6768\n",
      "Epoch 65/100\n",
      "15462/15462 [==============================] - 4s 276us/sample - loss: 1.7940 - accuracy: 0.6791\n",
      "Epoch 66/100\n",
      "15462/15462 [==============================] - 4s 278us/sample - loss: 1.7532 - accuracy: 0.6901\n",
      "Epoch 67/100\n",
      "15462/15462 [==============================] - 4s 279us/sample - loss: 1.7231 - accuracy: 0.6953\n",
      "Epoch 68/100\n",
      "15462/15462 [==============================] - 4s 277us/sample - loss: 1.7060 - accuracy: 0.7002\n",
      "Epoch 69/100\n",
      "15462/15462 [==============================] - 4s 277us/sample - loss: 1.6781 - accuracy: 0.7049\n",
      "Epoch 70/100\n",
      "15462/15462 [==============================] - 4s 277us/sample - loss: 1.6469 - accuracy: 0.7136\n",
      "Epoch 71/100\n",
      "15462/15462 [==============================] - 4s 279us/sample - loss: 1.6334 - accuracy: 0.7114\n",
      "Epoch 72/100\n",
      "15462/15462 [==============================] - 4s 276us/sample - loss: 1.6023 - accuracy: 0.7203\n",
      "Epoch 73/100\n",
      "15462/15462 [==============================] - 4s 277us/sample - loss: 1.5805 - accuracy: 0.7242\n",
      "Epoch 74/100\n",
      "15462/15462 [==============================] - 4s 278us/sample - loss: 1.5561 - accuracy: 0.7258\n",
      "Epoch 75/100\n",
      "15462/15462 [==============================] - 4s 277us/sample - loss: 1.5378 - accuracy: 0.7326\n",
      "Epoch 76/100\n",
      "15462/15462 [==============================] - 4s 276us/sample - loss: 1.5296 - accuracy: 0.7323\n",
      "Epoch 77/100\n",
      "15462/15462 [==============================] - 4s 275us/sample - loss: 1.4928 - accuracy: 0.7402\n",
      "Epoch 78/100\n",
      "15462/15462 [==============================] - 4s 276us/sample - loss: 1.4728 - accuracy: 0.7464\n",
      "Epoch 79/100\n",
      "15462/15462 [==============================] - 4s 276us/sample - loss: 1.4537 - accuracy: 0.7499\n",
      "Epoch 80/100\n",
      "15462/15462 [==============================] - 4s 275us/sample - loss: 1.4308 - accuracy: 0.7570\n",
      "Epoch 81/100\n",
      "15462/15462 [==============================] - 4s 275us/sample - loss: 1.4238 - accuracy: 0.7544\n",
      "Epoch 82/100\n",
      "15462/15462 [==============================] - 4s 279us/sample - loss: 1.4012 - accuracy: 0.7587\n",
      "Epoch 83/100\n",
      "15462/15462 [==============================] - 4s 277us/sample - loss: 1.3892 - accuracy: 0.7603\n",
      "Epoch 84/100\n",
      "15462/15462 [==============================] - 4s 277us/sample - loss: 1.3668 - accuracy: 0.7639\n",
      "Epoch 85/100\n",
      "15462/15462 [==============================] - 4s 277us/sample - loss: 1.3498 - accuracy: 0.7687\n",
      "Epoch 86/100\n",
      "15462/15462 [==============================] - 4s 279us/sample - loss: 1.3455 - accuracy: 0.7685\n",
      "Epoch 87/100\n",
      "15462/15462 [==============================] - 4s 276us/sample - loss: 1.3347 - accuracy: 0.7690\n",
      "Epoch 88/100\n",
      "15462/15462 [==============================] - 4s 277us/sample - loss: 1.3173 - accuracy: 0.7733\n",
      "Epoch 89/100\n",
      "15462/15462 [==============================] - 4s 276us/sample - loss: 1.2936 - accuracy: 0.7781\n",
      "Epoch 90/100\n",
      "15462/15462 [==============================] - 4s 278us/sample - loss: 1.2845 - accuracy: 0.7772\n",
      "Epoch 91/100\n",
      "15462/15462 [==============================] - 4s 277us/sample - loss: 1.2621 - accuracy: 0.7849\n",
      "Epoch 92/100\n",
      "15462/15462 [==============================] - 4s 276us/sample - loss: 1.2664 - accuracy: 0.7814\n",
      "Epoch 93/100\n",
      "15462/15462 [==============================] - 4s 277us/sample - loss: 1.2543 - accuracy: 0.7850\n",
      "Epoch 94/100\n",
      "15462/15462 [==============================] - 4s 275us/sample - loss: 1.2417 - accuracy: 0.7866\n",
      "Epoch 95/100\n",
      "15462/15462 [==============================] - 4s 276us/sample - loss: 1.2261 - accuracy: 0.7874\n",
      "Epoch 96/100\n",
      "15462/15462 [==============================] - 4s 275us/sample - loss: 1.2183 - accuracy: 0.7890\n",
      "Epoch 97/100\n",
      "15462/15462 [==============================] - 4s 279us/sample - loss: 1.1953 - accuracy: 0.7951\n",
      "Epoch 98/100\n",
      "15462/15462 [==============================] - 4s 275us/sample - loss: 1.1951 - accuracy: 0.7913\n",
      "Epoch 99/100\n",
      "15462/15462 [==============================] - 4s 276us/sample - loss: 1.1768 - accuracy: 0.7976\n",
      "Epoch 100/100\n",
      "15462/15462 [==============================] - 4s 275us/sample - loss: 1.1890 - accuracy: 0.7930\n"
     ]
    }
   ],
   "source": [
    " history = model.fit(predictors, label, epochs=200, verbose=1)"
   ]
  },
  {
   "cell_type": "code",
   "execution_count": 9,
   "metadata": {
    "colab": {},
    "colab_type": "code",
    "id": "1fXTEO3GJ282"
   },
   "outputs": [
    {
     "data": {
      "image/png": "[encoded data removed]",
      "text/plain": [
       "<Figure size 432x288 with 1 Axes>"
      ]
     },
     "metadata": {
      "needs_background": "light"
     },
     "output_type": "display_data"
    },
    {
     "data": {
      "image/png": "[encoded data removed]",
      "text/plain": [
       "<Figure size 432x288 with 1 Axes>"
      ]
     },
     "metadata": {
      "needs_background": "light"
     },
     "output_type": "display_data"
    }
   ],
   "source": [
    "import matplotlib.pyplot as plt\n",
    "%matplotlib inline  \n",
    "\n",
    "acc = history.history['accuracy']\n",
    "loss = history.history['loss']\n",
    "\n",
    "epochs = range(len(acc))\n",
    "\n",
    "plt.plot(epochs, acc, 'b', label='Training accuracy')\n",
    "plt.title('Training accuracy')\n",
    "\n",
    "plt.figure()\n",
    "\n",
    "plt.plot(epochs, loss, 'b', label='Training Loss')\n",
    "plt.title('Training loss')\n",
    "plt.legend()\n",
    "\n",
    "plt.show()"
   ]
  },
  {
   "cell_type": "code",
   "execution_count": 10,
   "metadata": {
    "colab": {},
    "colab_type": "code",
    "id": "6Vc6PHgxa6Hm"
   },
   "outputs": [
    {
     "name": "stdout",
     "output_type": "stream",
     "text": [
      "Help me Obi Wan Kenobi, you're my only hope well on thy heart esteem show every breast new hate hate new new new hate new new sit far on hell he happy live so glory so speed best bright bright rage best sits flow weeds age sang cold ocean hath flatter not bright dearer fired flow gone days ' on thee young days look what such praise live bright still bright new bright new dearer chary deem'd torn bright up new hate hate show behind bright new new ' should call so far confounds told disgrace to store not live kind alone so much acquainted live alone should change\n"
     ]
    }
   ],
   "source": [
    "seed_text = \"Help me Obi Wan Kenobi, you're my only hope\"\n",
    "next_words = 100\n",
    "  \n",
    "for _ in range(next_words):\n",
    "\ttoken_list = tokenizer.texts_to_sequences([seed_text])[0]\n",
    "\ttoken_list = pad_sequences([token_list], maxlen=max_sequence_len-1, padding='pre')\n",
    "\tpredicted = model.predict_classes(token_list, verbose=0)\n",
    "\toutput_word = \"\"\n",
    "\tfor word, index in tokenizer.word_index.items():\n",
    "\t\tif index == predicted:\n",
    "\t\t\toutput_word = word\n",
    "\t\t\tbreak\n",
    "\tseed_text += \" \" + output_word\n",
    "print(seed_text)"
   ]
  },
  {
   "cell_type": "code",
   "execution_count": null,
   "metadata": {},
   "outputs": [],
   "source": []
  }
 ],
 "metadata": {
  "accelerator": "GPU",
  "colab": {
   "collapsed_sections": [],
   "name": "NLP-Week4-Exercise-Shakespeare-Question.ipynb",
   "provenance": []
  },
  "kernelspec": {
   "display_name": "Python 3",
   "language": "python",
   "name": "python3"
  },
  "language_info": {
   "codemirror_mode": {
    "name": "ipython",
    "version": 3
   },
   "file_extension": ".py",
   "mimetype": "text/x-python",
   "name": "python",
   "nbconvert_exporter": "python",
   "pygments_lexer": "ipython3",
   "version": "3.7.4"
  }
 },
 "nbformat": 4,
 "nbformat_minor": 1
}
