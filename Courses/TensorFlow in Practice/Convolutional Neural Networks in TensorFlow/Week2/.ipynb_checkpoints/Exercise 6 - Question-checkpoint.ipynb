{
 "cells": [
  {
   "cell_type": "code",
   "execution_count": 1,
   "metadata": {
    "colab": {
     "base_uri": "https://localhost:8080/",
     "height": 34
    },
    "colab_type": "code",
    "executionInfo": {
     "elapsed": 2049,
     "status": "ok",
     "timestamp": 1580831792566,
     "user": {
      "displayName": "Piotr Szewc",
      "photoUrl": "https://lh3.googleusercontent.com/a-/AAuE7mASRwMkoz0EMQzsFKYEHnCKcH1nbf6NDYd544wiDg=s64",
      "userId": "16575894027835628671"
     },
     "user_tz": -60
    },
    "id": "dn-6c02VmqiN",
    "outputId": "66e91201-9f96-4d29-f026-243246e5c430"
   },
   "outputs": [
    {
     "name": "stdout",
     "output_type": "stream",
     "text": [
      "2.1.0\n",
      "Num GPUs Available:  1\n"
     ]
    }
   ],
   "source": [
    "# In this exercise you will train a CNN on the FULL Cats-v-dogs dataset\n",
    "# This will require you doing a lot of data preprocessing because\n",
    "# the dataset isn't split into training and validation for you\n",
    "# This code block has all the required inputs\n",
    "from __future__ import absolute_import, division, print_function, unicode_literals\n",
    "\n",
    "import os\n",
    "import zipfile\n",
    "import random\n",
    "import tensorflow as tf\n",
    "print(tf.__version__)\n",
    "from tensorflow.keras.optimizers import RMSprop\n",
    "from tensorflow.keras.optimizers import Adam\n",
    "import wget\n",
    "\n",
    "from tensorflow.keras.preprocessing.image import ImageDataGenerator\n",
    "from shutil import copyfile\n",
    "\n",
    "import tensorflow as tf\n",
    "print(\"Num GPUs Available: \", len(tf.config.experimental.list_physical_devices('GPU')))\n"
   ]
  },
  {
   "cell_type": "code",
   "execution_count": 2,
   "metadata": {
    "colab": {
     "base_uri": "https://localhost:8080/",
     "height": 204
    },
    "colab_type": "code",
    "executionInfo": {
     "elapsed": 35770,
     "status": "ok",
     "timestamp": 1580831826295,
     "user": {
      "displayName": "Piotr Szewc",
      "photoUrl": "https://lh3.googleusercontent.com/a-/AAuE7mASRwMkoz0EMQzsFKYEHnCKcH1nbf6NDYd544wiDg=s64",
      "userId": "16575894027835628671"
     },
     "user_tz": -60
    },
    "id": "3sd9dQWa23aj",
    "outputId": "9c516381-b52d-418d-e5ad-44c86fcc762a"
   },
   "outputs": [],
   "source": [
    "# This code block downloads the full Cats-v-Dogs dataset and stores it as \n",
    "# cats-and-dogs.zip. It then unzips it to /tmp\n",
    "# which will create a tmp/PetImages directory containing subdirectories\n",
    "# called 'Cat' and 'Dog' (that's how the original researchers structured it)\n",
    "# If the URL doesn't work, \n",
    "# .   visit https://www.microsoft.com/en-us/download/confirmation.aspx?id=54765\n",
    "# And right click on the 'Download Manually' link to get a new URL\n",
    "\n",
    "#!wget --no-check-certificate \\\n",
    "#    \"https://download.microsoft.com/download/3/E/1/3E1C3F21-ECDB-4869-8368-6DEBA77B919F/kagglecatsanddogs_3367a.zip\" \\\n",
    "#    -O \"/tmp/cats-and-dogs.zip\"\n",
    "\n",
    "#local_zip = '/tmp/cats-and-dogs.zip'\n",
    "#zip_ref = zipfile.ZipFile(local_zip, 'r')\n",
    "#zip_ref.extractall('/tmp')\n",
    "#zip_ref.close()\n"
   ]
  },
  {
   "cell_type": "code",
   "execution_count": 3,
   "metadata": {
    "colab": {
     "base_uri": "https://localhost:8080/",
     "height": 51
    },
    "colab_type": "code",
    "executionInfo": {
     "elapsed": 35762,
     "status": "ok",
     "timestamp": 1580831826296,
     "user": {
      "displayName": "Piotr Szewc",
      "photoUrl": "https://lh3.googleusercontent.com/a-/AAuE7mASRwMkoz0EMQzsFKYEHnCKcH1nbf6NDYd544wiDg=s64",
      "userId": "16575894027835628671"
     },
     "user_tz": -60
    },
    "id": "gi3yD62a6X3S",
    "outputId": "9bc25991-334b-41a3-f22a-4dbee679054c"
   },
   "outputs": [
    {
     "ename": "FileNotFoundError",
     "evalue": "[WinError 3] System nie może odnaleźć określonej ścieżki: './tmp/PetImages/Cat/'",
     "output_type": "error",
     "traceback": [
      "\u001b[1;31m---------------------------------------------------------------------------\u001b[0m",
      "\u001b[1;31mFileNotFoundError\u001b[0m                         Traceback (most recent call last)",
      "\u001b[1;32m<ipython-input-3-9de72f6a1a59>\u001b[0m in \u001b[0;36m<module>\u001b[1;34m\u001b[0m\n\u001b[1;32m----> 1\u001b[1;33m \u001b[0mprint\u001b[0m\u001b[1;33m(\u001b[0m\u001b[0mlen\u001b[0m\u001b[1;33m(\u001b[0m\u001b[0mos\u001b[0m\u001b[1;33m.\u001b[0m\u001b[0mlistdir\u001b[0m\u001b[1;33m(\u001b[0m\u001b[1;34m'./tmp/PetImages/Cat/'\u001b[0m\u001b[1;33m)\u001b[0m\u001b[1;33m)\u001b[0m\u001b[1;33m)\u001b[0m\u001b[1;33m\u001b[0m\u001b[1;33m\u001b[0m\u001b[0m\n\u001b[0m\u001b[0;32m      2\u001b[0m \u001b[0mprint\u001b[0m\u001b[1;33m(\u001b[0m\u001b[0mlen\u001b[0m\u001b[1;33m(\u001b[0m\u001b[0mos\u001b[0m\u001b[1;33m.\u001b[0m\u001b[0mlistdir\u001b[0m\u001b[1;33m(\u001b[0m\u001b[1;34m'./tmp/PetImages/Dog/'\u001b[0m\u001b[1;33m)\u001b[0m\u001b[1;33m)\u001b[0m\u001b[1;33m)\u001b[0m\u001b[1;33m\u001b[0m\u001b[1;33m\u001b[0m\u001b[0m\n\u001b[0;32m      3\u001b[0m \u001b[1;33m\u001b[0m\u001b[0m\n\u001b[0;32m      4\u001b[0m \u001b[1;31m# Expected Output:\u001b[0m\u001b[1;33m\u001b[0m\u001b[1;33m\u001b[0m\u001b[1;33m\u001b[0m\u001b[0m\n\u001b[0;32m      5\u001b[0m \u001b[1;31m# 12501\u001b[0m\u001b[1;33m\u001b[0m\u001b[1;33m\u001b[0m\u001b[1;33m\u001b[0m\u001b[0m\n",
      "\u001b[1;31mFileNotFoundError\u001b[0m: [WinError 3] System nie może odnaleźć określonej ścieżki: './tmp/PetImages/Cat/'"
     ]
    }
   ],
   "source": [
    "print(len(os.listdir('./tmp/PetImages/Cat/')))\n",
    "print(len(os.listdir('./tmp/PetImages/Dog/')))\n",
    "\n",
    "# Expected Output:\n",
    "# 12501\n",
    "# 12501"
   ]
  },
  {
   "cell_type": "code",
   "execution_count": null,
   "metadata": {
    "colab": {
     "base_uri": "https://localhost:8080/",
     "height": 34
    },
    "colab_type": "code",
    "executionInfo": {
     "elapsed": 40827,
     "status": "ok",
     "timestamp": 1580831831370,
     "user": {
      "displayName": "Piotr Szewc",
      "photoUrl": "https://lh3.googleusercontent.com/a-/AAuE7mASRwMkoz0EMQzsFKYEHnCKcH1nbf6NDYd544wiDg=s64",
      "userId": "16575894027835628671"
     },
     "user_tz": -60
    },
    "id": "F-QkLjxpmyK2",
    "outputId": "89a62795-0136-4406-c091-3f20115f3492"
   },
   "outputs": [],
   "source": [
    "# Use os.mkdir to create your directories\n",
    "# You will need a directory for cats-v-dogs, and subdirectories for training\n",
    "# and testing. These in turn will need subdirectories for 'cats' and 'dogs'\n",
    "try:\n",
    "\n",
    "  import shutil\n",
    "  base_dir = './tmp/cats-v-dogs'\n",
    "  \n",
    "  if os.path.exists(base_dir):\n",
    "    print('removing folder + all files')\n",
    "    shutil.rmtree(base_dir)\n",
    "\n",
    "  train_dir = os.path.join(base_dir, 'training')\n",
    "  test_dir = os.path.join(base_dir, 'testing')\n",
    "\n",
    "  # Directory with our training cat/dog pictures\n",
    "  train_cats_dir = os.path.join(train_dir, 'cats')\n",
    "  train_dogs_dir = os.path.join(train_dir, 'dogs')\n",
    "\n",
    "  os.makedirs(train_cats_dir)\n",
    "  os.makedirs(train_dogs_dir)\n",
    "\n",
    "  # Directory with our test cat/dog pictures\n",
    "  test_cats_dir = os.path.join(test_dir, 'cats')\n",
    "  test_dogs_dir = os.path.join(test_dir, 'dogs')\n",
    "\n",
    "  os.makedirs(test_cats_dir)\n",
    "  os.makedirs(test_dogs_dir)\n",
    "except OSError:\n",
    "    pass"
   ]
  },
  {
   "cell_type": "code",
   "execution_count": null,
   "metadata": {
    "colab": {
     "base_uri": "https://localhost:8080/",
     "height": 119
    },
    "colab_type": "code",
    "executionInfo": {
     "elapsed": 56759,
     "status": "ok",
     "timestamp": 1580831847306,
     "user": {
      "displayName": "Piotr Szewc",
      "photoUrl": "https://lh3.googleusercontent.com/a-/AAuE7mASRwMkoz0EMQzsFKYEHnCKcH1nbf6NDYd544wiDg=s64",
      "userId": "16575894027835628671"
     },
     "user_tz": -60
    },
    "id": "zvSODo0f9LaU",
    "outputId": "7daed8f0-a715-4847-de80-74e792a1c309"
   },
   "outputs": [],
   "source": [
    "# Write a python function called split_data which takes\n",
    "# a SOURCE directory containing the files\n",
    "# a TRAINING directory that a portion of the files will be copied to\n",
    "# a TESTING directory that a portion of the files will be copie to\n",
    "# a SPLIT SIZE to determine the portion\n",
    "# The files should also be randomized, so that the training set is a random\n",
    "# X% of the files, and the test set is the remaining files\n",
    "# SO, for example, if SOURCE is PetImages/Cat, and SPLIT SIZE is .9\n",
    "# Then 90% of the images in PetImages/Cat will be copied to the TRAINING dir\n",
    "# and 10% of the images will be copied to the TESTING dir\n",
    "# Also -- All images should be checked, and if they have a zero file length,\n",
    "# they will not be copied over\n",
    "#\n",
    "# os.listdir(DIRECTORY) gives you a listing of the contents of that directory\n",
    "# os.path.getsize(PATH) gives you the size of the file\n",
    "# copyfile(source, destination) copies a file from source to destination\n",
    "# random.sample(list, len(list)) shuffles a list\n",
    "def split_data(SOURCE, TRAINING, TESTING, SPLIT_SIZE):\n",
    "  # YOUR CODE STARTS HERE\n",
    "  source_list = os.listdir(SOURCE)\n",
    "\n",
    "  for i in source_list:\n",
    "    if os.path.getsize(SOURCE+'/'+i) == 0:\n",
    "      source_list.remove(i)\n",
    "      print(i,'is zero length, so ignoring')\n",
    "\n",
    "  source_len = len(source_list)\n",
    "\n",
    "  source_list = random.sample(source_list, source_len)\n",
    "  training_size = int(source_len*SPLIT_SIZE)\n",
    "\n",
    "  training_list = source_list[:training_size]\n",
    "  print(len(training_list))\n",
    "\n",
    "  test_list = source_list[training_size:]\n",
    "  print(len(test_list))\n",
    "\n",
    "  for i in training_list:\n",
    "    copyfile(SOURCE+'/'+i,TRAINING+i)\n",
    "\n",
    "  for i in test_list:\n",
    "    copyfile(SOURCE+'/'+i,TESTING+i)\n",
    "\n",
    "  # YOUR CODE ENDS HERE\n",
    "\n",
    "\n",
    "\n",
    "CAT_SOURCE_DIR = \"./tmp/PetImages/Cat/\"\n",
    "TRAINING_CATS_DIR = \"./tmp/cats-v-dogs/training/cats/\"\n",
    "TESTING_CATS_DIR = \"./tmp/cats-v-dogs/testing/cats/\"\n",
    "DOG_SOURCE_DIR = \"./tmp/PetImages/Dog/\"\n",
    "TRAINING_DOGS_DIR = \"./tmp/cats-v-dogs/training/dogs/\"\n",
    "TESTING_DOGS_DIR = \"./tmp/cats-v-dogs/testing/dogs/\"\n",
    "\n",
    "split_size = .9\n",
    "split_data(CAT_SOURCE_DIR, TRAINING_CATS_DIR, TESTING_CATS_DIR, split_size)\n",
    "split_data(DOG_SOURCE_DIR, TRAINING_DOGS_DIR, TESTING_DOGS_DIR, split_size)\n",
    "\n",
    "# Expected output\n",
    "# 666.jpg is zero length, so ignoring\n",
    "# 11702.jpg is zero length, so ignoring"
   ]
  },
  {
   "cell_type": "code",
   "execution_count": null,
   "metadata": {
    "colab": {
     "base_uri": "https://localhost:8080/",
     "height": 85
    },
    "colab_type": "code",
    "executionInfo": {
     "elapsed": 56751,
     "status": "ok",
     "timestamp": 1580831847307,
     "user": {
      "displayName": "Piotr Szewc",
      "photoUrl": "https://lh3.googleusercontent.com/a-/AAuE7mASRwMkoz0EMQzsFKYEHnCKcH1nbf6NDYd544wiDg=s64",
      "userId": "16575894027835628671"
     },
     "user_tz": -60
    },
    "id": "luthalB76ufC",
    "outputId": "ba179653-a7b1-48ef-cff3-3f9fdc9605a6"
   },
   "outputs": [],
   "source": [
    "print(len(os.listdir('./tmp/cats-v-dogs/training/cats/')))\n",
    "print(len(os.listdir('./tmp/cats-v-dogs/training/dogs/')))\n",
    "print(len(os.listdir('./tmp/cats-v-dogs/testing/cats/')))\n",
    "print(len(os.listdir('./tmp/cats-v-dogs/testing/dogs/')))\n",
    "\n",
    "# Expected output:\n",
    "# 11250\n",
    "# 11250\n",
    "# 1250\n",
    "# 1250"
   ]
  },
  {
   "cell_type": "code",
   "execution_count": null,
   "metadata": {
    "colab": {},
    "colab_type": "code",
    "id": "-BQrav4anTmj"
   },
   "outputs": [],
   "source": [
    "model = tf.keras.models.Sequential([\n",
    "    tf.keras.layers.Conv2D(32, (3,3), activation='relu', input_shape=(150, 150, 3)),\n",
    "    tf.keras.layers.MaxPooling2D(2, 2),\n",
    "    tf.keras.layers.Conv2D(64, (3,3), activation='relu'),\n",
    "    tf.keras.layers.MaxPooling2D(2,2),\n",
    "    tf.keras.layers.Conv2D(128, (3,3), activation='relu'),\n",
    "    tf.keras.layers.MaxPooling2D(2,2),\n",
    "    tf.keras.layers.Conv2D(128, (3,3), activation='relu'),\n",
    "    tf.keras.layers.MaxPooling2D(2,2),\n",
    "    tf.keras.layers.Dropout(0.5),\n",
    "    tf.keras.layers.Flatten(),\n",
    "    tf.keras.layers.Dense(512, activation='relu'),\n",
    "    tf.keras.layers.Dense(1, activation='sigmoid')\n",
    "])\n",
    "\n",
    "model.compile(loss='binary_crossentropy',\n",
    "              optimizer=RMSprop(lr=1e-4),\n",
    "              metrics=['acc'])"
   ]
  },
  {
   "cell_type": "code",
   "execution_count": null,
   "metadata": {
    "colab": {
     "base_uri": "https://localhost:8080/",
     "height": 51
    },
    "colab_type": "code",
    "executionInfo": {
     "elapsed": 64723,
     "status": "ok",
     "timestamp": 1580831855306,
     "user": {
      "displayName": "Piotr Szewc",
      "photoUrl": "https://lh3.googleusercontent.com/a-/AAuE7mASRwMkoz0EMQzsFKYEHnCKcH1nbf6NDYd544wiDg=s64",
      "userId": "16575894027835628671"
     },
     "user_tz": -60
    },
    "id": "mlNjoJ5D61N6",
    "outputId": "77111ca3-178c-42de-a3da-e0be975f78c9"
   },
   "outputs": [],
   "source": [
    "TRAINING_DIR = \"./tmp/cats-v-dogs/training/\"\n",
    "train_datagen = ImageDataGenerator(\n",
    "      rescale=1./255,\n",
    "      rotation_range=40,\n",
    "      width_shift_range=0.2,\n",
    "      height_shift_range=0.2,\n",
    "      shear_range=0.2,\n",
    "      zoom_range=0.2,\n",
    "      horizontal_flip=True,\n",
    "      fill_mode='nearest')\n",
    "\n",
    "train_generator = train_datagen.flow_from_directory(\n",
    "        TRAINING_DIR,  # This is the source directory for training images\n",
    "        target_size=(150, 150),  # All images will be resized to 150x150\n",
    "        batch_size=100,\n",
    "        # Since we use binary_crossentropy loss, we need binary labels\n",
    "        class_mode='binary')\n",
    "\n",
    "VALIDATION_DIR = \"./tmp/cats-v-dogs/testing/\"\n",
    "validation_datagen = ImageDataGenerator(\n",
    "      rescale=1./255,\n",
    "      rotation_range=40,\n",
    "      width_shift_range=0.2,\n",
    "      height_shift_range=0.2,\n",
    "      shear_range=0.2,\n",
    "      zoom_range=0.2,\n",
    "      horizontal_flip=True,\n",
    "      fill_mode='nearest')\n",
    "\n",
    "validation_generator = validation_datagen.flow_from_directory(\n",
    "        VALIDATION_DIR,\n",
    "        target_size=(150, 150),\n",
    "        batch_size=100,\n",
    "        class_mode='binary')\n",
    "\n",
    "\n",
    "# Expected Output:\n",
    "# Found 22498 images belonging to 2 classes.\n",
    "# Found 2500 images belonging to 2 classes."
   ]
  },
  {
   "cell_type": "code",
   "execution_count": null,
   "metadata": {
    "colab": {
     "base_uri": "https://localhost:8080/",
     "height": 306
    },
    "colab_type": "code",
    "executionInfo": {
     "elapsed": 1435,
     "status": "error",
     "timestamp": 1580831967170,
     "user": {
      "displayName": "Piotr Szewc",
      "photoUrl": "https://lh3.googleusercontent.com/a-/AAuE7mASRwMkoz0EMQzsFKYEHnCKcH1nbf6NDYd544wiDg=s64",
      "userId": "16575894027835628671"
     },
     "user_tz": -60
    },
    "id": "KyS4n53w7DxC",
    "outputId": "b51053b7-4130-40bf-e9c7-1698edf9ef7a"
   },
   "outputs": [],
   "source": [
    "history = model.fit_generator(\n",
    "      train_generator,\n",
    "      epochs=20,\n",
    "      validation_data=validation_generator,\n",
    "      verbose=2)\n",
    "\n",
    "# The expectation here is that the model will train, and that accuracy will be > 95% on both training and validation\n",
    "# i.e. acc:A1 and val_acc:A2 will be visible, and both A1 and A2 will be > .9"
   ]
  },
  {
   "cell_type": "code",
   "execution_count": null,
   "metadata": {
    "colab": {},
    "colab_type": "code",
    "id": "MWZrJN4-65RC"
   },
   "outputs": [],
   "source": [
    "# PLOT LOSS AND ACCURACY\n",
    "%matplotlib inline\n",
    "\n",
    "import matplotlib.image  as mpimg\n",
    "import matplotlib.pyplot as plt\n",
    "\n",
    "#-----------------------------------------------------------\n",
    "# Retrieve a list of list results on training and test data\n",
    "# sets for each training epoch\n",
    "#-----------------------------------------------------------\n",
    "acc=history.history['acc']\n",
    "val_acc=history.history['val_acc']\n",
    "loss=history.history['loss']\n",
    "val_loss=history.history['val_loss']\n",
    "\n",
    "epochs=range(len(acc)) # Get number of epochs\n",
    "\n",
    "#------------------------------------------------\n",
    "# Plot training and validation accuracy per epoch\n",
    "#------------------------------------------------\n",
    "plt.plot(epochs, acc, 'r', \"Training Accuracy\")\n",
    "plt.plot(epochs, val_acc, 'b', \"Validation Accuracy\")\n",
    "plt.title('Training and validation accuracy')\n",
    "plt.figure()\n",
    "\n",
    "#------------------------------------------------\n",
    "# Plot training and validation loss per epoch\n",
    "#------------------------------------------------\n",
    "plt.plot(epochs, loss, 'r', \"Training Loss\")\n",
    "plt.plot(epochs, val_loss, 'b', \"Validation Loss\")\n",
    "\n",
    "\n",
    "plt.title('Training and validation loss')\n",
    "\n",
    "# Desired output. Charts with training and validation metrics. No crash :)"
   ]
  },
  {
   "cell_type": "code",
   "execution_count": null,
   "metadata": {
    "colab": {},
    "colab_type": "code",
    "id": "LqL6FYUrtXpf"
   },
   "outputs": [],
   "source": [
    "# Here's a codeblock just for fun. You should be able to upload an image here \n",
    "# and have it classified without crashing\n",
    "\n",
    "import numpy as np\n",
    "from google.colab import files\n",
    "from keras.preprocessing import image\n",
    "\n",
    "uploaded = files.upload()\n",
    "\n",
    "for fn in uploaded.keys():\n",
    " \n",
    "  # predicting images\n",
    "  path = '/content/' + fn\n",
    "  img = image.load_img(path, target_size=(150, 150))\n",
    "  x = image.img_to_array(img)\n",
    "  x = np.expand_dims(x, axis=0)\n",
    "\n",
    "  images = np.vstack([x])\n",
    "  classes = model.predict(images, batch_size=10)\n",
    "  print(classes[0])\n",
    "  if classes[0]>0.5:\n",
    "    print(fn + \" is a dog\")\n",
    "  else:\n",
    "    print(fn + \" is a cat\")"
   ]
  }
 ],
 "metadata": {
  "accelerator": "GPU",
  "colab": {
   "collapsed_sections": [],
   "name": "Exercise 6 - Question.ipynb",
   "provenance": [
    {
     "file_id": "https://github.com/lmoroney/dlaicourse/blob/master/Exercises/Exercise%206%20-%20Cats%20v%20Dogs%20with%20Augmentation/Exercise%206%20-%20Question.ipynb",
     "timestamp": 1580675760536
    },
    {
     "file_id": "1dGHF5_gCd_iW3blaWG-kNce153CHvM-I",
     "timestamp": 1550529081161
    }
   ]
  },
  "kernelspec": {
   "display_name": "Python 3",
   "language": "python",
   "name": "python3"
  },
  "language_info": {
   "codemirror_mode": {
    "name": "ipython",
    "version": 3
   },
   "file_extension": ".py",
   "mimetype": "text/x-python",
   "name": "python",
   "nbconvert_exporter": "python",
   "pygments_lexer": "ipython3",
   "version": "3.7.4"
  }
 },
 "nbformat": 4,
 "nbformat_minor": 1
}
