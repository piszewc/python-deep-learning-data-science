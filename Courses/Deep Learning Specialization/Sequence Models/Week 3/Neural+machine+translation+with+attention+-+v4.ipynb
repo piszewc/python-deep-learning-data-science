{
 "cells": [
  {
   "cell_type": "markdown",
   "metadata": {},
   "source": [
    "# Neural Machine Translation\n",
    "\n",
    "Welcome to your first programming assignment for this week! \n",
    "\n",
    "You will build a Neural Machine Translation (NMT) model to translate human readable dates (\"25th of June, 2009\") into machine readable dates (\"2009-06-25\"). You will do this using an attention model, one of the most sophisticated sequence to sequence models. \n",
    "\n",
    "This notebook was produced together with NVIDIA's Deep Learning Institute. \n",
    "\n",
    "Let's load all the packages you will need for this assignment."
   ]
  },
  {
   "cell_type": "code",
   "execution_count": 5,
   "metadata": {},
   "outputs": [],
   "source": [
    "from keras.layers import Bidirectional, Concatenate, Permute, Dot, Input, LSTM, Multiply\n",
    "from keras.layers import RepeatVector, Dense, Activation, Lambda\n",
    "from keras.optimizers import Adam\n",
    "from keras.utils import to_categorical\n",
    "from keras.models import load_model, Model\n",
    "import keras.backend as K\n",
    "import numpy as np\n",
    "\n",
    "from faker import Faker\n",
    "import random\n",
    "from tqdm import tqdm\n",
    "from babel.dates import format_date\n",
    "from nmt_utils import *\n",
    "import matplotlib.pyplot as plt\n",
    "%matplotlib inline"
   ]
  },
  {
   "cell_type": "markdown",
   "metadata": {},
   "source": [
    "## 1 - Translating human readable dates into machine readable dates\n",
    "\n",
    "The model you will build here could be used to translate from one language to another, such as translating from English to Hindi. However, language translation requires massive datasets and usually takes days of training on GPUs. To give you a place to experiment with these models even without using massive datasets, we will instead use a simpler \"date translation\" task. \n",
    "\n",
    "The network will input a date written in a variety of possible formats (*e.g. \"the 29th of August 1958\", \"03/30/1968\", \"24 JUNE 1987\"*) and translate them into standardized, machine readable dates (*e.g. \"1958-08-29\", \"1968-03-30\", \"1987-06-24\"*). We will have the network learn to output dates in the common machine-readable format YYYY-MM-DD. \n",
    "\n",
    "\n",
    "\n",
    "<!-- \n",
    "Take a look at [nmt_utils.py](./nmt_utils.py) to see all the formatting. Count and figure out how the formats work, you will need this knowledge later. !--> "
   ]
  },
  {
   "cell_type": "markdown",
   "metadata": {},
   "source": [
    "### 1.1 - Dataset\n",
    "\n",
    "We will train the model on a dataset of 10000 human readable dates and their equivalent, standardized, machine readable dates. Let's run the following cells to load the dataset and print some examples. "
   ]
  },
  {
   "cell_type": "code",
   "execution_count": 6,
   "metadata": {},
   "outputs": [
    {
     "name": "stderr",
     "output_type": "stream",
     "text": [
      "100%|██████████| 10000/10000 [00:00<00:00, 28434.82it/s]\n"
     ]
    }
   ],
   "source": [
    "m = 10000\n",
    "dataset, human_vocab, machine_vocab, inv_machine_vocab = load_dataset(m)"
   ]
  },
  {
   "cell_type": "code",
   "execution_count": 7,
   "metadata": {},
   "outputs": [
    {
     "data": {
      "text/plain": [
       "[('9 may 1998', '1998-05-09'),\n",
       " ('10.11.19', '2019-11-10'),\n",
       " ('9/10/70', '1970-09-10'),\n",
       " ('saturday april 28 1990', '1990-04-28'),\n",
       " ('thursday january 26 1995', '1995-01-26'),\n",
       " ('monday march 7 1983', '1983-03-07'),\n",
       " ('sunday may 22 1988', '1988-05-22'),\n",
       " ('08 jul 2008', '2008-07-08'),\n",
       " ('8 sep 1999', '1999-09-08'),\n",
       " ('thursday january 1 1981', '1981-01-01')]"
      ]
     },
     "execution_count": 7,
     "metadata": {},
     "output_type": "execute_result"
    }
   ],
   "source": [
    "dataset[:10]"
   ]
  },
  {
   "cell_type": "markdown",
   "metadata": {},
   "source": [
    "You've loaded:\n",
    "- `dataset`: a list of tuples of (human readable date, machine readable date)\n",
    "- `human_vocab`: a python dictionary mapping all characters used in the human readable dates to an integer-valued index \n",
    "- `machine_vocab`: a python dictionary mapping all characters used in machine readable dates to an integer-valued index. These indices are not necessarily consistent with `human_vocab`. \n",
    "- `inv_machine_vocab`: the inverse dictionary of `machine_vocab`, mapping from indices back to characters. \n",
    "\n",
    "Let's preprocess the data and map the raw text data into the index values. We will also use Tx=30 (which we assume is the maximum length of the human readable date; if we get a longer input, we would have to truncate it) and Ty=10 (since \"YYYY-MM-DD\" is 10 characters long). "
   ]
  },
  {
   "cell_type": "code",
   "execution_count": 8,
   "metadata": {},
   "outputs": [
    {
     "name": "stdout",
     "output_type": "stream",
     "text": [
      "X.shape: (10000, 30)\n",
      "Y.shape: (10000, 10)\n",
      "Xoh.shape: (10000, 30, 37)\n",
      "Yoh.shape: (10000, 10, 11)\n"
     ]
    }
   ],
   "source": [
    "Tx = 30\n",
    "Ty = 10\n",
    "X, Y, Xoh, Yoh = preprocess_data(dataset, human_vocab, machine_vocab, Tx, Ty)\n",
    "\n",
    "print(\"X.shape:\", X.shape)\n",
    "print(\"Y.shape:\", Y.shape)\n",
    "print(\"Xoh.shape:\", Xoh.shape)\n",
    "print(\"Yoh.shape:\", Yoh.shape)"
   ]
  },
  {
   "cell_type": "markdown",
   "metadata": {},
   "source": [
    "You now have:\n",
    "- `X`: a processed version of the human readable dates in the training set, where each character is replaced by an index mapped to the character via `human_vocab`. Each date is further padded to $T_x$ values with a special character (< pad >). `X.shape = (m, Tx)`\n",
    "- `Y`: a processed version of the machine readable dates in the training set, where each character is replaced by the index it is mapped to in `machine_vocab`. You should have `Y.shape = (m, Ty)`. \n",
    "- `Xoh`: one-hot version of `X`, the \"1\" entry's index is mapped to the character thanks to `human_vocab`. `Xoh.shape = (m, Tx, len(human_vocab))`\n",
    "- `Yoh`: one-hot version of `Y`, the \"1\" entry's index is mapped to the character thanks to `machine_vocab`. `Yoh.shape = (m, Tx, len(machine_vocab))`. Here, `len(machine_vocab) = 11` since there are 11 characters ('-' as well as 0-9). \n"
   ]
  },
  {
   "cell_type": "markdown",
   "metadata": {},
   "source": [
    "Lets also look at some examples of preprocessed training examples. Feel free to play with `index` in the cell below to navigate the dataset and see how source/target dates are preprocessed. "
   ]
  },
  {
   "cell_type": "code",
   "execution_count": 9,
   "metadata": {},
   "outputs": [
    {
     "name": "stdout",
     "output_type": "stream",
     "text": [
      "Source date: 9 may 1998\n",
      "Target date: 1998-05-09\n",
      "\n",
      "Source after preprocessing (indices): [12  0 24 13 34  0  4 12 12 11 36 36 36 36 36 36 36 36 36 36 36 36 36 36\n",
      " 36 36 36 36 36 36]\n",
      "Target after preprocessing (indices): [ 2 10 10  9  0  1  6  0  1 10]\n",
      "\n",
      "Source after preprocessing (one-hot): [[0. 0. 0. ... 0. 0. 0.]\n",
      " [1. 0. 0. ... 0. 0. 0.]\n",
      " [0. 0. 0. ... 0. 0. 0.]\n",
      " ...\n",
      " [0. 0. 0. ... 0. 0. 1.]\n",
      " [0. 0. 0. ... 0. 0. 1.]\n",
      " [0. 0. 0. ... 0. 0. 1.]]\n",
      "Target after preprocessing (one-hot): [[0. 0. 1. 0. 0. 0. 0. 0. 0. 0. 0.]\n",
      " [0. 0. 0. 0. 0. 0. 0. 0. 0. 0. 1.]\n",
      " [0. 0. 0. 0. 0. 0. 0. 0. 0. 0. 1.]\n",
      " [0. 0. 0. 0. 0. 0. 0. 0. 0. 1. 0.]\n",
      " [1. 0. 0. 0. 0. 0. 0. 0. 0. 0. 0.]\n",
      " [0. 1. 0. 0. 0. 0. 0. 0. 0. 0. 0.]\n",
      " [0. 0. 0. 0. 0. 0. 1. 0. 0. 0. 0.]\n",
      " [1. 0. 0. 0. 0. 0. 0. 0. 0. 0. 0.]\n",
      " [0. 1. 0. 0. 0. 0. 0. 0. 0. 0. 0.]\n",
      " [0. 0. 0. 0. 0. 0. 0. 0. 0. 0. 1.]]\n"
     ]
    }
   ],
   "source": [
    "index = 0\n",
    "print(\"Source date:\", dataset[index][0])\n",
    "print(\"Target date:\", dataset[index][1])\n",
    "print()\n",
    "print(\"Source after preprocessing (indices):\", X[index])\n",
    "print(\"Target after preprocessing (indices):\", Y[index])\n",
    "print()\n",
    "print(\"Source after preprocessing (one-hot):\", Xoh[index])\n",
    "print(\"Target after preprocessing (one-hot):\", Yoh[index])"
   ]
  },
  {
   "cell_type": "markdown",
   "metadata": {},
   "source": [
    "## 2 - Neural machine translation with attention\n",
    "\n",
    "If you had to translate a book's paragraph from French to English, you would not read the whole paragraph, then close the book and translate. Even during the translation process, you would read/re-read and focus on the parts of the French paragraph corresponding to the parts of the English you are writing down. \n",
    "\n",
    "The attention mechanism tells a Neural Machine Translation model where it should pay attention to at any step. \n",
    "\n",
    "\n",
    "### 2.1 - Attention mechanism\n",
    "\n",
    "In this part, you will implement the attention mechanism presented in the lecture videos. Here is a figure to remind you how the model works. The diagram on the left shows the attention model. The diagram on the right shows what one \"Attention\" step does to calculate the attention variables $\\alpha^{\\langle t, t' \\rangle}$, which are used to compute the context variable $context^{\\langle t \\rangle}$ for each timestep in the output ($t=1, \\ldots, T_y$). \n",
    "\n",
    "<table>\n",
    "<td> \n",
    "<img src=\"images/attn_model.png\" style=\"width:500;height:500px;\"> <br>\n",
    "</td> \n",
    "<td> \n",
    "<img src=\"images/attn_mechanism.png\" style=\"width:500;height:500px;\"> <br>\n",
    "</td> \n",
    "</table>\n",
    "<caption><center> **Figure 1**: Neural machine translation with attention</center></caption>\n"
   ]
  },
  {
   "cell_type": "markdown",
   "metadata": {},
   "source": [
    "\n",
    "Here are some properties of the model that you may notice: \n",
    "\n",
    "- There are two separate LSTMs in this model (see diagram on the left). Because the one at the bottom of the picture is a Bi-directional LSTM and comes *before* the attention mechanism, we will call it *pre-attention* Bi-LSTM. The LSTM at the top of the diagram comes *after* the attention mechanism, so we will call it the *post-attention* LSTM. The pre-attention Bi-LSTM goes through $T_x$ time steps; the post-attention LSTM goes through $T_y$ time steps. \n",
    "\n",
    "- The post-attention LSTM passes $s^{\\langle t \\rangle}, c^{\\langle t \\rangle}$ from one time step to the next. In the lecture videos, we were using only a basic RNN for the post-activation sequence model, so the state captured by the RNN output activations $s^{\\langle t\\rangle}$. But since we are using an LSTM here, the LSTM has both the output activation $s^{\\langle t\\rangle}$ and the hidden cell state $c^{\\langle t\\rangle}$. However, unlike previous text generation examples (such as Dinosaurus in week 1), in this model the post-activation LSTM at time $t$ does will not take the specific generated $y^{\\langle t-1 \\rangle}$ as input; it only takes $s^{\\langle t\\rangle}$ and $c^{\\langle t\\rangle}$ as input. We have designed the model this way, because (unlike language generation where adjacent characters are highly correlated) there isn't as strong a dependency between the previous character and the next character in a YYYY-MM-DD date. \n",
    "\n",
    "- We use $a^{\\langle t \\rangle} = [\\overrightarrow{a}^{\\langle t \\rangle}; \\overleftarrow{a}^{\\langle t \\rangle}]$ to represent the concatenation of the activations of both the forward-direction and backward-directions of the pre-attention Bi-LSTM. \n",
    "\n",
    "- The diagram on the right uses a `RepeatVector` node to copy $s^{\\langle t-1 \\rangle}$'s value $T_x$ times, and then `Concatenation` to concatenate $s^{\\langle t-1 \\rangle}$ and $a^{\\langle t \\rangle}$ to compute $e^{\\langle t, t'}$, which is then passed through a softmax to compute $\\alpha^{\\langle t, t' \\rangle}$. We'll explain how to use `RepeatVector` and `Concatenation` in Keras below. \n",
    "\n",
    "Lets implement this model. You will start by implementing two functions: `one_step_attention()` and `model()`.\n",
    "\n",
    "**1) `one_step_attention()`**: At step $t$, given all the hidden states of the Bi-LSTM ($[a^{<1>},a^{<2>}, ..., a^{<T_x>}]$) and the previous hidden state of the second LSTM ($s^{<t-1>}$), `one_step_attention()` will compute the attention weights ($[\\alpha^{<t,1>},\\alpha^{<t,2>}, ..., \\alpha^{<t,T_x>}]$) and output the context vector (see Figure  1 (right) for details):\n",
    "$$context^{<t>} = \\sum_{t' = 1}^{T_x} \\alpha^{<t,t'>}a^{<t'>}\\tag{1}$$ \n",
    "\n",
    "Note that we are denoting the attention in this notebook $context^{\\langle t \\rangle}$. In the lecture videos, the context was denoted $c^{\\langle t \\rangle}$, but here we are calling it $context^{\\langle t \\rangle}$ to avoid confusion with the (post-attention) LSTM's internal memory cell variable, which is sometimes also denoted $c^{\\langle t \\rangle}$. \n",
    "  \n",
    "**2) `model()`**: Implements the entire model. It first runs the input through a Bi-LSTM to get back $[a^{<1>},a^{<2>}, ..., a^{<T_x>}]$. Then, it calls `one_step_attention()` $T_y$ times (`for` loop). At each iteration of this loop, it gives the computed context vector $c^{<t>}$ to the second LSTM, and runs the output of the LSTM through a dense layer with softmax activation to generate a prediction $\\hat{y}^{<t>}$. \n",
    "\n",
    "\n",
    "\n",
    "**Exercise**: Implement `one_step_attention()`. The function `model()` will call the layers in `one_step_attention()` $T_y$ using a for-loop, and it is important that all $T_y$ copies have the same weights. I.e., it should not re-initiaiize the weights every time. In other words, all $T_y$ steps should have shared weights. Here's how you can implement layers with shareable weights in Keras:\n",
    "1. Define the layer objects (as global variables for examples).\n",
    "2. Call these objects when propagating the input.\n",
    "\n",
    "We have defined the layers you need as global variables. Please run the following cells to create them. Please check the Keras documentation to make sure you understand what these layers are: [RepeatVector()](https://keras.io/layers/core/#repeatvector), [Concatenate()](https://keras.io/layers/merge/#concatenate), [Dense()](https://keras.io/layers/core/#dense), [Activation()](https://keras.io/layers/core/#activation), [Dot()](https://keras.io/layers/merge/#dot)."
   ]
  },
  {
   "cell_type": "code",
   "execution_count": 10,
   "metadata": {},
   "outputs": [
    {
     "name": "stdout",
     "output_type": "stream",
     "text": [
      "WARNING:tensorflow:From C:\\Users\\piotr\\Anaconda3\\lib\\site-packages\\keras\\backend\\tensorflow_backend.py:74: The name tf.get_default_graph is deprecated. Please use tf.compat.v1.get_default_graph instead.\n",
      "\n"
     ]
    }
   ],
   "source": [
    "# Defined shared layers as global variables\n",
    "repeator = RepeatVector(Tx)\n",
    "concatenator = Concatenate(axis=-1)\n",
    "densor1 = Dense(10, activation = \"tanh\")\n",
    "densor2 = Dense(1, activation = \"relu\")\n",
    "activator = Activation(softmax, name='attention_weights') # We are using a custom softmax(axis = 1) loaded in this notebook\n",
    "dotor = Dot(axes = 1)"
   ]
  },
  {
   "cell_type": "markdown",
   "metadata": {},
   "source": [
    "Now you can use these layers to implement `one_step_attention()`. In order to propagate a Keras tensor object X through one of these layers, use `layer(X)` (or `layer([X,Y])` if it requires multiple inputs.), e.g. `densor(X)` will propagate X through the `Dense(1)` layer defined above."
   ]
  },
  {
   "cell_type": "code",
   "execution_count": 11,
   "metadata": {},
   "outputs": [],
   "source": [
    "# GRADED FUNCTION: one_step_attention\n",
    "\n",
    "def one_step_attention(a, s_prev):\n",
    "    \"\"\"\n",
    "    Performs one step of attention: Outputs a context vector computed as a dot product of the attention weights\n",
    "    \"alphas\" and the hidden states \"a\" of the Bi-LSTM.\n",
    "    \n",
    "    Arguments:\n",
    "    a -- hidden state output of the Bi-LSTM, numpy-array of shape (m, Tx, 2*n_a)\n",
    "    s_prev -- previous hidden state of the (post-attention) LSTM, numpy-array of shape (m, n_s)\n",
    "    \n",
    "    Returns:\n",
    "    context -- context vector, input of the next (post-attetion) LSTM cell\n",
    "    \"\"\"\n",
    "    \n",
    "    ### START CODE HERE ###\n",
    "    # Use repeator to repeat s_prev to be of shape (m, Tx, n_s) so that you can concatenate it with all hidden states \"a\" (≈ 1 line)\n",
    "    s_prev = repeator(s_prev)\n",
    "    # Use concatenator to concatenate a and s_prev on the last axis (≈ 1 line)\n",
    "    concat = concatenator([a,s_prev])\n",
    "    # Use densor1 to propagate concat through a small fully-connected neural network to compute the \"intermediate energies\" variable e. (≈1 lines)\n",
    "    e = densor1(concat)\n",
    "    # Use densor2 to propagate e through a small fully-connected neural network to compute the \"energies\" variable energies. (≈1 lines)\n",
    "    energies = densor2(e)\n",
    "    # Use \"activator\" on \"energies\" to compute the attention weights \"alphas\" (≈ 1 line)\n",
    "    alphas = activator(energies)\n",
    "    # Use dotor together with \"alphas\" and \"a\" to compute the context vector to be given to the next (post-attention) LSTM-cell (≈ 1 line)\n",
    "    context = dotor([alphas,a])\n",
    "    ### END CODE HERE ###\n",
    "    \n",
    "    return context"
   ]
  },
  {
   "cell_type": "markdown",
   "metadata": {},
   "source": [
    "You will be able to check the expected output of `one_step_attention()` after you've coded the `model()` function."
   ]
  },
  {
   "cell_type": "markdown",
   "metadata": {},
   "source": [
    "**Exercise**: Implement `model()` as explained in figure 2 and the text above. Again, we have defined global layers that will share weights to be used in `model()`."
   ]
  },
  {
   "cell_type": "code",
   "execution_count": 12,
   "metadata": {},
   "outputs": [],
   "source": [
    "n_a = 32\n",
    "n_s = 64\n",
    "post_activation_LSTM_cell = LSTM(n_s, return_state = True)\n",
    "output_layer = Dense(len(machine_vocab), activation=softmax)"
   ]
  },
  {
   "cell_type": "markdown",
   "metadata": {},
   "source": [
    "Now you can use these layers $T_y$ times in a `for` loop to generate the outputs, and their parameters will not be reinitialized. You will have to carry out the following steps: \n",
    "\n",
    "1. Propagate the input into a [Bidirectional](https://keras.io/layers/wrappers/#bidirectional) [LSTM](https://keras.io/layers/recurrent/#lstm)\n",
    "2. Iterate for $t = 0, \\dots, T_y-1$: \n",
    "    1. Call `one_step_attention()` on $[\\alpha^{<t,1>},\\alpha^{<t,2>}, ..., \\alpha^{<t,T_x>}]$ and $s^{<t-1>}$ to get the context vector $context^{<t>}$.\n",
    "    2. Give $context^{<t>}$ to the post-attention LSTM cell. Remember pass in the previous hidden-state $s^{\\langle t-1\\rangle}$ and cell-states $c^{\\langle t-1\\rangle}$ of this LSTM using `initial_state= [previous hidden state, previous cell state]`. Get back the new hidden state $s^{<t>}$ and the new cell state $c^{<t>}$.\n",
    "    3. Apply a softmax layer to $s^{<t>}$, get the output. \n",
    "    4. Save the output by adding it to the list of outputs.\n",
    "\n",
    "3. Create your Keras model instance, it should have three inputs (\"inputs\", $s^{<0>}$ and $c^{<0>}$) and output the list of \"outputs\"."
   ]
  },
  {
   "cell_type": "code",
   "execution_count": 30,
   "metadata": {},
   "outputs": [],
   "source": [
    "# GRADED FUNCTION: model\n",
    "\n",
    "def model(Tx, Ty, n_a, n_s, human_vocab_size, machine_vocab_size):\n",
    "    \"\"\"\n",
    "    Arguments:\n",
    "    Tx -- length of the input sequence\n",
    "    Ty -- length of the output sequence\n",
    "    n_a -- hidden state size of the Bi-LSTM\n",
    "    n_s -- hidden state size of the post-attention LSTM\n",
    "    human_vocab_size -- size of the python dictionary \"human_vocab\"\n",
    "    machine_vocab_size -- size of the python dictionary \"machine_vocab\"\n",
    "\n",
    "    Returns:\n",
    "    model -- Keras model instance\n",
    "    \"\"\"\n",
    "    \n",
    "    # Define the inputs of your model with a shape (Tx,)\n",
    "    # Define s0 and c0, initial hidden state for the decoder LSTM of shape (n_s,)\n",
    "    X = Input(shape=(Tx, human_vocab_size))\n",
    "    s0 = Input(shape=(n_s,), name='s0')\n",
    "    c0 = Input(shape=(n_s,), name='c0')\n",
    "    s = s0\n",
    "    c = c0\n",
    "    \n",
    "    # Initialize empty list of outputs\n",
    "    outputs = []\n",
    "    \n",
    "    ### START CODE HERE ###\n",
    "    \n",
    "    # Step 1: Define your pre-attention Bi-LSTM. Remember to use return_sequences=True. (≈ 1 line)\n",
    "    a = Bidirectional(LSTM(n_a, return_sequences=True))(X)\n",
    "    \n",
    "    # Step 2: Iterate for Ty steps\n",
    "    for t in range(Ty):\n",
    "    \n",
    "        # Step 2.A: Perform one step of the attention mechanism to get back the context vector at step t (≈ 1 line)\n",
    "        context = one_step_attention(a, s)\n",
    "        \n",
    "        # Step 2.B: Apply the post-attention LSTM cell to the \"context\" vector.\n",
    "        # Don't forget to pass: initial_state = [hidden state, cell state] (≈ 1 line)\n",
    "        s, _, c = post_activation_LSTM_cell(context, initial_state = [s,c])\n",
    "        \n",
    "        # Step 2.C: Apply Dense layer to the hidden state output of the post-attention LSTM (≈ 1 line)\n",
    "        out = output_layer(s)\n",
    "        \n",
    "        # Step 2.D: Append \"out\" to the \"outputs\" list (≈ 1 line)\n",
    "        outputs.append(out)\n",
    "    \n",
    "    # Step 3: Create model instance taking three inputs and returning the list of outputs. (≈ 1 line)\n",
    "    model = Model(inputs=[X, s0, c0], outputs=outputs)\n",
    "    \n",
    "    ### END CODE HERE ###\n",
    "    \n",
    "    return model"
   ]
  },
  {
   "cell_type": "markdown",
   "metadata": {},
   "source": [
    "Run the following cell to create your model."
   ]
  },
  {
   "cell_type": "code",
   "execution_count": 31,
   "metadata": {},
   "outputs": [],
   "source": [
    "model = model(Tx, Ty, n_a, n_s, len(human_vocab), len(machine_vocab))"
   ]
  },
  {
   "cell_type": "markdown",
   "metadata": {},
   "source": [
    "Let's get a summary of the model to check if it matches the expected output."
   ]
  },
  {
   "cell_type": "code",
   "execution_count": 32,
   "metadata": {},
   "outputs": [
    {
     "name": "stdout",
     "output_type": "stream",
     "text": [
      "__________________________________________________________________________________________________\n",
      "Layer (type)                    Output Shape         Param #     Connected to                     \n",
      "==================================================================================================\n",
      "input_2 (InputLayer)            (None, 30, 37)       0                                            \n",
      "__________________________________________________________________________________________________\n",
      "s0 (InputLayer)                 (None, 64)           0                                            \n",
      "__________________________________________________________________________________________________\n",
      "bidirectional_2 (Bidirectional) (None, 30, 64)       17920       input_2[0][0]                    \n",
      "__________________________________________________________________________________________________\n",
      "repeat_vector_1 (RepeatVector)  (None, 30, 64)       0           s0[0][0]                         \n",
      "                                                                 lstm_1[10][0]                    \n",
      "                                                                 lstm_1[11][0]                    \n",
      "                                                                 lstm_1[12][0]                    \n",
      "                                                                 lstm_1[13][0]                    \n",
      "                                                                 lstm_1[14][0]                    \n",
      "                                                                 lstm_1[15][0]                    \n",
      "                                                                 lstm_1[16][0]                    \n",
      "                                                                 lstm_1[17][0]                    \n",
      "                                                                 lstm_1[18][0]                    \n",
      "__________________________________________________________________________________________________\n",
      "concatenate_1 (Concatenate)     (None, 30, 128)      0           bidirectional_2[0][0]            \n",
      "                                                                 repeat_vector_1[10][0]           \n",
      "                                                                 bidirectional_2[0][0]            \n",
      "                                                                 repeat_vector_1[11][0]           \n",
      "                                                                 bidirectional_2[0][0]            \n",
      "                                                                 repeat_vector_1[12][0]           \n",
      "                                                                 bidirectional_2[0][0]            \n",
      "                                                                 repeat_vector_1[13][0]           \n",
      "                                                                 bidirectional_2[0][0]            \n",
      "                                                                 repeat_vector_1[14][0]           \n",
      "                                                                 bidirectional_2[0][0]            \n",
      "                                                                 repeat_vector_1[15][0]           \n",
      "                                                                 bidirectional_2[0][0]            \n",
      "                                                                 repeat_vector_1[16][0]           \n",
      "                                                                 bidirectional_2[0][0]            \n",
      "                                                                 repeat_vector_1[17][0]           \n",
      "                                                                 bidirectional_2[0][0]            \n",
      "                                                                 repeat_vector_1[18][0]           \n",
      "                                                                 bidirectional_2[0][0]            \n",
      "                                                                 repeat_vector_1[19][0]           \n",
      "__________________________________________________________________________________________________\n",
      "dense_1 (Dense)                 (None, 30, 10)       1290        concatenate_1[10][0]             \n",
      "                                                                 concatenate_1[11][0]             \n",
      "                                                                 concatenate_1[12][0]             \n",
      "                                                                 concatenate_1[13][0]             \n",
      "                                                                 concatenate_1[14][0]             \n",
      "                                                                 concatenate_1[15][0]             \n",
      "                                                                 concatenate_1[16][0]             \n",
      "                                                                 concatenate_1[17][0]             \n",
      "                                                                 concatenate_1[18][0]             \n",
      "                                                                 concatenate_1[19][0]             \n",
      "__________________________________________________________________________________________________\n",
      "dense_2 (Dense)                 (None, 30, 1)        11          dense_1[10][0]                   \n",
      "                                                                 dense_1[11][0]                   \n",
      "                                                                 dense_1[12][0]                   \n",
      "                                                                 dense_1[13][0]                   \n",
      "                                                                 dense_1[14][0]                   \n",
      "                                                                 dense_1[15][0]                   \n",
      "                                                                 dense_1[16][0]                   \n",
      "                                                                 dense_1[17][0]                   \n",
      "                                                                 dense_1[18][0]                   \n",
      "                                                                 dense_1[19][0]                   \n",
      "__________________________________________________________________________________________________\n",
      "attention_weights (Activation)  (None, 30, 1)        0           dense_2[10][0]                   \n",
      "                                                                 dense_2[11][0]                   \n",
      "                                                                 dense_2[12][0]                   \n",
      "                                                                 dense_2[13][0]                   \n",
      "                                                                 dense_2[14][0]                   \n",
      "                                                                 dense_2[15][0]                   \n",
      "                                                                 dense_2[16][0]                   \n",
      "                                                                 dense_2[17][0]                   \n",
      "                                                                 dense_2[18][0]                   \n",
      "                                                                 dense_2[19][0]                   \n",
      "__________________________________________________________________________________________________\n",
      "dot_1 (Dot)                     (None, 1, 64)        0           attention_weights[10][0]         \n",
      "                                                                 bidirectional_2[0][0]            \n",
      "                                                                 attention_weights[11][0]         \n",
      "                                                                 bidirectional_2[0][0]            \n",
      "                                                                 attention_weights[12][0]         \n",
      "                                                                 bidirectional_2[0][0]            \n",
      "                                                                 attention_weights[13][0]         \n",
      "                                                                 bidirectional_2[0][0]            \n"
     ]
    },
    {
     "name": "stdout",
     "output_type": "stream",
     "text": [
      "                                                                 attention_weights[14][0]         \n",
      "                                                                 bidirectional_2[0][0]            \n",
      "                                                                 attention_weights[15][0]         \n",
      "                                                                 bidirectional_2[0][0]            \n",
      "                                                                 attention_weights[16][0]         \n",
      "                                                                 bidirectional_2[0][0]            \n",
      "                                                                 attention_weights[17][0]         \n",
      "                                                                 bidirectional_2[0][0]            \n",
      "                                                                 attention_weights[18][0]         \n",
      "                                                                 bidirectional_2[0][0]            \n",
      "                                                                 attention_weights[19][0]         \n",
      "                                                                 bidirectional_2[0][0]            \n",
      "__________________________________________________________________________________________________\n",
      "c0 (InputLayer)                 (None, 64)           0                                            \n",
      "__________________________________________________________________________________________________\n",
      "lstm_1 (LSTM)                   [(None, 64), (None,  33024       dot_1[10][0]                     \n",
      "                                                                 s0[0][0]                         \n",
      "                                                                 c0[0][0]                         \n",
      "                                                                 dot_1[11][0]                     \n",
      "                                                                 lstm_1[10][0]                    \n",
      "                                                                 lstm_1[10][2]                    \n",
      "                                                                 dot_1[12][0]                     \n",
      "                                                                 lstm_1[11][0]                    \n",
      "                                                                 lstm_1[11][2]                    \n",
      "                                                                 dot_1[13][0]                     \n",
      "                                                                 lstm_1[12][0]                    \n",
      "                                                                 lstm_1[12][2]                    \n",
      "                                                                 dot_1[14][0]                     \n",
      "                                                                 lstm_1[13][0]                    \n",
      "                                                                 lstm_1[13][2]                    \n",
      "                                                                 dot_1[15][0]                     \n",
      "                                                                 lstm_1[14][0]                    \n",
      "                                                                 lstm_1[14][2]                    \n",
      "                                                                 dot_1[16][0]                     \n",
      "                                                                 lstm_1[15][0]                    \n",
      "                                                                 lstm_1[15][2]                    \n",
      "                                                                 dot_1[17][0]                     \n",
      "                                                                 lstm_1[16][0]                    \n",
      "                                                                 lstm_1[16][2]                    \n",
      "                                                                 dot_1[18][0]                     \n",
      "                                                                 lstm_1[17][0]                    \n",
      "                                                                 lstm_1[17][2]                    \n",
      "                                                                 dot_1[19][0]                     \n",
      "                                                                 lstm_1[18][0]                    \n",
      "                                                                 lstm_1[18][2]                    \n",
      "__________________________________________________________________________________________________\n",
      "dense_3 (Dense)                 (None, 11)           715         lstm_1[10][0]                    \n",
      "                                                                 lstm_1[11][0]                    \n",
      "                                                                 lstm_1[12][0]                    \n",
      "                                                                 lstm_1[13][0]                    \n",
      "                                                                 lstm_1[14][0]                    \n",
      "                                                                 lstm_1[15][0]                    \n",
      "                                                                 lstm_1[16][0]                    \n",
      "                                                                 lstm_1[17][0]                    \n",
      "                                                                 lstm_1[18][0]                    \n",
      "                                                                 lstm_1[19][0]                    \n",
      "==================================================================================================\n",
      "Total params: 52,960\n",
      "Trainable params: 52,960\n",
      "Non-trainable params: 0\n",
      "__________________________________________________________________________________________________\n"
     ]
    }
   ],
   "source": [
    "model.summary()"
   ]
  },
  {
   "cell_type": "markdown",
   "metadata": {},
   "source": [
    "**Expected Output**:\n",
    "\n",
    "Here is the summary you should see\n",
    "<table>\n",
    "    <tr>\n",
    "        <td>\n",
    "            **Total params:**\n",
    "        </td>\n",
    "        <td>\n",
    "         52,960\n",
    "        </td>\n",
    "    </tr>\n",
    "        <tr>\n",
    "        <td>\n",
    "            **Trainable params:**\n",
    "        </td>\n",
    "        <td>\n",
    "         52,960\n",
    "        </td>\n",
    "    </tr>\n",
    "            <tr>\n",
    "        <td>\n",
    "            **Non-trainable params:**\n",
    "        </td>\n",
    "        <td>\n",
    "         0\n",
    "        </td>\n",
    "    </tr>\n",
    "                    <tr>\n",
    "        <td>\n",
    "            **bidirectional_1's output shape **\n",
    "        </td>\n",
    "        <td>\n",
    "         (None, 30, 64)  \n",
    "        </td>\n",
    "    </tr>\n",
    "    <tr>\n",
    "        <td>\n",
    "            **repeat_vector_1's output shape **\n",
    "        </td>\n",
    "        <td>\n",
    "         (None, 30, 64) \n",
    "        </td>\n",
    "    </tr>\n",
    "                <tr>\n",
    "        <td>\n",
    "            **concatenate_1's output shape **\n",
    "        </td>\n",
    "        <td>\n",
    "         (None, 30, 128) \n",
    "        </td>\n",
    "    </tr>\n",
    "            <tr>\n",
    "        <td>\n",
    "            **attention_weights's output shape **\n",
    "        </td>\n",
    "        <td>\n",
    "         (None, 30, 1)  \n",
    "        </td>\n",
    "    </tr>\n",
    "        <tr>\n",
    "        <td>\n",
    "            **dot_1's output shape **\n",
    "        </td>\n",
    "        <td>\n",
    "         (None, 1, 64)\n",
    "        </td>\n",
    "    </tr>\n",
    "           <tr>\n",
    "        <td>\n",
    "            **dense_3's output shape **\n",
    "        </td>\n",
    "        <td>\n",
    "         (None, 11) \n",
    "        </td>\n",
    "    </tr>\n",
    "</table>\n"
   ]
  },
  {
   "cell_type": "markdown",
   "metadata": {},
   "source": [
    "As usual, after creating your model in Keras, you need to compile it and define what loss, optimizer and metrics you want to use. Compile your model using `categorical_crossentropy` loss, a custom [Adam](https://keras.io/optimizers/#adam) [optimizer](https://keras.io/optimizers/#usage-of-optimizers) (`learning rate = 0.005`, $\\beta_1 = 0.9$, $\\beta_2 = 0.999$, `decay = 0.01`)  and `['accuracy']` metrics:"
   ]
  },
  {
   "cell_type": "code",
   "execution_count": 33,
   "metadata": {},
   "outputs": [],
   "source": [
    "### START CODE HERE ### (≈2 lines)\n",
    "opt = Adam(lr = 0.005, beta_1=0.9, beta_2=0.999, decay = 0.01)\n",
    "model.compile(loss='categorical_crossentropy', optimizer=opt, metrics=['accuracy'])\n",
    "### END CODE HERE ###"
   ]
  },
  {
   "cell_type": "markdown",
   "metadata": {},
   "source": [
    "The last step is to define all your inputs and outputs to fit the model:\n",
    "- You already have X of shape $(m = 10000, T_x = 30)$ containing the training examples.\n",
    "- You need to create `s0` and `c0` to initialize your `post_attention_LSTM_cell` with 0s.\n",
    "- Given the `model()` you coded, you need the \"outputs\" to be a list of 11 elements of shape (m, T_y). So that: `outputs[i][0], ..., outputs[i][Ty]` represent the true labels (characters) corresponding to the $i^{th}$ training example (`X[i]`). More generally, `outputs[i][j]` is the true label of the $j^{th}$ character in the $i^{th}$ training example."
   ]
  },
  {
   "cell_type": "code",
   "execution_count": 34,
   "metadata": {},
   "outputs": [],
   "source": [
    "s0 = np.zeros((m, n_s))\n",
    "c0 = np.zeros((m, n_s))\n",
    "outputs = list(Yoh.swapaxes(0,1))"
   ]
  },
  {
   "cell_type": "markdown",
   "metadata": {},
   "source": [
    "Let's now fit the model and run it for one epoch."
   ]
  },
  {
   "cell_type": "code",
   "execution_count": 35,
   "metadata": {},
   "outputs": [
    {
     "name": "stdout",
     "output_type": "stream",
     "text": [
      "Epoch 1/1\n"
     ]
    },
    {
     "name": "stdout",
     "output_type": "stream",
     "text": [
      " 2900/10000 [=======>......................] - ETA: 20:37 - loss: 24.3718 - dense_3_loss: 2.3882 - dense_3_acc: 0.4500 - dense_3_acc_1: 0.0000e+00 - dense_3_acc_2: 0.0100 - dense_3_acc_3: 0.1100 - dense_3_acc_4: 0.2600 - dense_3_acc_5: 0.0000e+00 - dense_3_acc_6: 0.0700 - dense_3_acc_7: 0.0500 - dense_3_acc_8: 0.1300 - dense_3_acc_9: 0.15 - ETA: 10:18 - loss: 22.6815 - dense_3_loss: 2.5327 - dense_3_acc: 0.4750 - dense_3_acc_1: 0.1350 - dense_3_acc_2: 0.1050 - dense_3_acc_3: 0.0700 - dense_3_acc_4: 0.6300 - dense_3_acc_5: 0.0000e+00 - dense_3_acc_6: 0.0350 - dense_3_acc_7: 0.5050 - dense_3_acc_8: 0.1500 - dense_3_acc_9: 0.1100   - ETA: 6:53 - loss: 21.7434 - dense_3_loss: 2.5697 - dense_3_acc: 0.5100 - dense_3_acc_1: 0.3033 - dense_3_acc_2: 0.1867 - dense_3_acc_3: 0.0700 - dense_3_acc_4: 0.7533 - dense_3_acc_5: 0.0000e+00 - dense_3_acc_6: 0.0233 - dense_3_acc_7: 0.5033 - dense_3_acc_8: 0.1867 - dense_3_acc_9: 0.1200 - ETA: 5:09 - loss: 21.0582 - dense_3_loss: 2.5725 - dense_3_acc: 0.5325 - dense_3_acc_1: 0.4050 - dense_3_acc_2: 0.2300 - dense_3_acc_3: 0.0650 - dense_3_acc_4: 0.8150 - dense_3_acc_5: 0.0075 - dense_3_acc_6: 0.0250 - dense_3_acc_7: 0.4450 - dense_3_acc_8: 0.2425 - dense_3_acc_9: 0.1200    - ETA: 4:07 - loss: 20.4874 - dense_3_loss: 2.6165 - dense_3_acc: 0.5300 - dense_3_acc_1: 0.4260 - dense_3_acc_2: 0.2280 - dense_3_acc_3: 0.0520 - dense_3_acc_4: 0.8520 - dense_3_acc_5: 0.1160 - dense_3_acc_6: 0.0200 - dense_3_acc_7: 0.5560 - dense_3_acc_8: 0.2640 - dense_3_acc_9: 0.116 - ETA: 3:26 - loss: 19.9433 - dense_3_loss: 2.6174 - dense_3_acc: 0.5400 - dense_3_acc_1: 0.4517 - dense_3_acc_2: 0.2233 - dense_3_acc_3: 0.0433 - dense_3_acc_4: 0.8767 - dense_3_acc_5: 0.2250 - dense_3_acc_6: 0.0183 - dense_3_acc_7: 0.6300 - dense_3_acc_8: 0.2617 - dense_3_acc_9: 0.116 - ETA: 2:57 - loss: 19.4109 - dense_3_loss: 2.6140 - dense_3_acc: 0.5400 - dense_3_acc_1: 0.4643 - dense_3_acc_2: 0.2157 - dense_3_acc_3: 0.0386 - dense_3_acc_4: 0.8943 - dense_3_acc_5: 0.3029 - dense_3_acc_6: 0.0186 - dense_3_acc_7: 0.6829 - dense_3_acc_8: 0.2629 - dense_3_acc_9: 0.118 - ETA: 2:34 - loss: 18.9456 - dense_3_loss: 2.6512 - dense_3_acc: 0.5500 - dense_3_acc_1: 0.4825 - dense_3_acc_2: 0.2113 - dense_3_acc_3: 0.0387 - dense_3_acc_4: 0.9075 - dense_3_acc_5: 0.3625 - dense_3_acc_6: 0.0312 - dense_3_acc_7: 0.7225 - dense_3_acc_8: 0.2600 - dense_3_acc_9: 0.112 - ETA: 2:17 - loss: 18.4893 - dense_3_loss: 2.6695 - dense_3_acc: 0.5467 - dense_3_acc_1: 0.4878 - dense_3_acc_2: 0.2089 - dense_3_acc_3: 0.0433 - dense_3_acc_4: 0.9178 - dense_3_acc_5: 0.3989 - dense_3_acc_6: 0.0422 - dense_3_acc_7: 0.7533 - dense_3_acc_8: 0.2700 - dense_3_acc_9: 0.117 - ETA: 2:03 - loss: 18.0162 - dense_3_loss: 2.6715 - dense_3_acc: 0.5540 - dense_3_acc_1: 0.5250 - dense_3_acc_2: 0.2210 - dense_3_acc_3: 0.0470 - dense_3_acc_4: 0.9260 - dense_3_acc_5: 0.4390 - dense_3_acc_6: 0.0530 - dense_3_acc_7: 0.7780 - dense_3_acc_8: 0.2830 - dense_3_acc_9: 0.123 - ETA: 1:52 - loss: 17.5535 - dense_3_loss: 2.6551 - dense_3_acc: 0.5673 - dense_3_acc_1: 0.5618 - dense_3_acc_2: 0.2400 - dense_3_acc_3: 0.0445 - dense_3_acc_4: 0.9327 - dense_3_acc_5: 0.4700 - dense_3_acc_6: 0.0627 - dense_3_acc_7: 0.7982 - dense_3_acc_8: 0.2891 - dense_3_acc_9: 0.129 - ETA: 1:42 - loss: 17.1607 - dense_3_loss: 2.6572 - dense_3_acc: 0.5708 - dense_3_acc_1: 0.5792 - dense_3_acc_2: 0.2558 - dense_3_acc_3: 0.0458 - dense_3_acc_4: 0.9383 - dense_3_acc_5: 0.5017 - dense_3_acc_6: 0.0683 - dense_3_acc_7: 0.8150 - dense_3_acc_8: 0.2917 - dense_3_acc_9: 0.125 - ETA: 1:36 - loss: 16.7799 - dense_3_loss: 2.6424 - dense_3_acc: 0.5746 - dense_3_acc_1: 0.5923 - dense_3_acc_2: 0.2685 - dense_3_acc_3: 0.0515 - dense_3_acc_4: 0.9431 - dense_3_acc_5: 0.5269 - dense_3_acc_6: 0.0762 - dense_3_acc_7: 0.8292 - dense_3_acc_8: 0.3015 - dense_3_acc_9: 0.123 - ETA: 1:31 - loss: 16.4539 - dense_3_loss: 2.6283 - dense_3_acc: 0.5786 - dense_3_acc_1: 0.6100 - dense_3_acc_2: 0.2786 - dense_3_acc_3: 0.0543 - dense_3_acc_4: 0.9471 - dense_3_acc_5: 0.5414 - dense_3_acc_6: 0.0829 - dense_3_acc_7: 0.8414 - dense_3_acc_8: 0.3150 - dense_3_acc_9: 0.125 - ETA: 1:25 - loss: 16.1357 - dense_3_loss: 2.6221 - dense_3_acc: 0.5827 - dense_3_acc_1: 0.6293 - dense_3_acc_2: 0.2907 - dense_3_acc_3: 0.0567 - dense_3_acc_4: 0.9507 - dense_3_acc_5: 0.5607 - dense_3_acc_6: 0.0927 - dense_3_acc_7: 0.8520 - dense_3_acc_8: 0.3180 - dense_3_acc_9: 0.121 - ETA: 1:19 - loss: 15.8330 - dense_3_loss: 2.6088 - dense_3_acc: 0.5844 - dense_3_acc_1: 0.6462 - dense_3_acc_2: 0.3081 - dense_3_acc_3: 0.0606 - dense_3_acc_4: 0.9537 - dense_3_acc_5: 0.5737 - dense_3_acc_6: 0.1013 - dense_3_acc_7: 0.8612 - dense_3_acc_8: 0.3200 - dense_3_acc_9: 0.121 - ETA: 1:14 - loss: 15.5394 - dense_3_loss: 2.6001 - dense_3_acc: 0.5829 - dense_3_acc_1: 0.6635 - dense_3_acc_2: 0.3218 - dense_3_acc_3: 0.0706 - dense_3_acc_4: 0.9565 - dense_3_acc_5: 0.5865 - dense_3_acc_6: 0.1076 - dense_3_acc_7: 0.8694 - dense_3_acc_8: 0.3212 - dense_3_acc_9: 0.121 - ETA: 1:10 - loss: 15.2669 - dense_3_loss: 2.5864 - dense_3_acc: 0.5878 - dense_3_acc_1: 0.6783 - dense_3_acc_2: 0.3350 - dense_3_acc_3: 0.0772 - dense_3_acc_4: 0.9589 - dense_3_acc_5: 0.5972 - dense_3_acc_6: 0.1128 - dense_3_acc_7: 0.8767 - dense_3_acc_8: 0.3217 - dense_3_acc_9: 0.121 - ETA: 1:06 - loss: 14.9906 - dense_3_loss: 2.5722 - dense_3_acc: 0.5979 - dense_3_acc_1: 0.6905 - dense_3_acc_2: 0.3489 - dense_3_acc_3: 0.0847 - dense_3_acc_4: 0.9611 - dense_3_acc_5: 0.6100 - dense_3_acc_6: 0.1200 - dense_3_acc_7: 0.8832 - dense_3_acc_8: 0.3279 - dense_3_acc_9: 0.124 - ETA: 1:02 - loss: 14.7496 - dense_3_loss: 2.5605 - dense_3_acc: 0.6065 - dense_3_acc_1: 0.7020 - dense_3_acc_2: 0.3600 - dense_3_acc_3: 0.0920 - dense_3_acc_4: 0.9630 - dense_3_acc_5: 0.6160 - dense_3_acc_6: 0.1245 - dense_3_acc_7: 0.8890 - dense_3_acc_8: 0.3335 - dense_3_acc_9: 0.122 - ETA: 59s - loss: 14.5351 - dense_3_loss: 2.5468 - dense_3_acc: 0.6129 - dense_3_acc_1: 0.7090 - dense_3_acc_2: 0.3757 - dense_3_acc_3: 0.0981 - dense_3_acc_4: 0.9648 - dense_3_acc_5: 0.6248 - dense_3_acc_6: 0.1271 - dense_3_acc_7: 0.8943 - dense_3_acc_8: 0.3367 - dense_3_acc_9: 0.122 - ETA: 56s - loss: 14.3360 - dense_3_loss: 2.5347 - dense_3_acc: 0.6218 - dense_3_acc_1: 0.7182 - dense_3_acc_2: 0.3805 - dense_3_acc_3: 0.1073 - dense_3_acc_4: 0.9664 - dense_3_acc_5: 0.6332 - dense_3_acc_6: 0.1309 - dense_3_acc_7: 0.8991 - dense_3_acc_8: 0.3359 - dense_3_acc_9: 0.12 - ETA: 54s - loss: 14.1458 - dense_3_loss: 2.5292 - dense_3_acc: 0.6335 - dense_3_acc_1: 0.7287 - dense_3_acc_2: 0.3870 - dense_3_acc_3: 0.1122 - dense_3_acc_4: 0.9678 - dense_3_acc_5: 0.6448 - dense_3_acc_6: 0.1339 - dense_3_acc_7: 0.9035 - dense_3_acc_8: 0.3400 - dense_3_acc_9: 0.12 - ETA: 51s - loss: 13.9514 - dense_3_loss: 2.5176 - dense_3_acc: 0.6450 - dense_3_acc_1: 0.7375 - dense_3_acc_2: 0.3963 - dense_3_acc_3: 0.1200 - dense_3_acc_4: 0.9692 - dense_3_acc_5: 0.6508 - dense_3_acc_6: 0.1412 - dense_3_acc_7: 0.9075 - dense_3_acc_8: 0.3450 - dense_3_acc_9: 0.12 - ETA: 49s - loss: 13.7831 - dense_3_loss: 2.5075 - dense_3_acc: 0.6556 - dense_3_acc_1: 0.7468 - dense_3_acc_2: 0.4092 - dense_3_acc_3: 0.1244 - dense_3_acc_4: 0.9704 - dense_3_acc_5: 0.6592 - dense_3_acc_6: 0.1444 - dense_3_acc_7: 0.9112 - dense_3_acc_8: 0.3432 - dense_3_acc_9: 0.12 - ETA: 46s - loss: 13.6168 - dense_3_loss: 2.4976 - dense_3_acc: 0.6654 - dense_3_acc_1: 0.7538 - dense_3_acc_2: 0.4219 - dense_3_acc_3: 0.1312 - dense_3_acc_4: 0.9715 - dense_3_acc_5: 0.6673 - dense_3_acc_6: 0.1477 - dense_3_acc_7: 0.9146 - dense_3_acc_8: 0.3465 - dense_3_acc_9: 0.12 - ETA: 44s - loss: 13.4418 - dense_3_loss: 2.4887 - dense_3_acc: 0.6767 - dense_3_acc_1: 0.7626 - dense_3_acc_2: 0.4330 - dense_3_acc_3: 0.1363 - dense_3_acc_4: 0.9726 - dense_3_acc_5: 0.6767 - dense_3_acc_6: 0.1496 - dense_3_acc_7: 0.9178 - dense_3_acc_8: 0.3526 - dense_3_acc_9: 0.12 - ETA: 43s - loss: 13.2797 - dense_3_loss: 2.4790 - dense_3_acc: 0.6875 - dense_3_acc_1: 0.7707 - dense_3_acc_2: 0.4439 - dense_3_acc_3: 0.1421 - dense_3_acc_4: 0.9736 - dense_3_acc_5: 0.6839 - dense_3_acc_6: 0.1518 - dense_3_acc_7: 0.9207 - dense_3_acc_8: 0.3550 - dense_3_acc_9: 0.12 - ETA: 41s - loss: 13.1407 - dense_3_loss: 2.4715 - dense_3_acc: 0.6955 - dense_3_acc_1: 0.7759 - dense_3_acc_2: 0.4531 - dense_3_acc_3: 0.1514 - dense_3_acc_4: 0.9745 - dense_3_acc_5: 0.6886 - dense_3_acc_6: 0.1538 - dense_3_acc_7: 0.9234 - dense_3_acc_8: 0.3538 - dense_3_acc_9: 0.1307\b\b\b\b\b\b\b\b\b\b\b\b\b\b\b\b\b\b\b\b\b\b\b\b\b\b\b\b\b\b\b\b\b\b\b\b\b\b\b\b\b\b\b\b\b\b\b\b\b\b\b\b\b\b\b\b\b\b\b\b\b\b\b\b\b\b\b\b\b\b\b\b\b\b\b\b\b\b\b\b\b\b\b\b\b\b\b\b\b\b\b\b\b\b\b\b\b\b\b\b\b\b\b\b\b\b\b\b\b\b\b\b\b\b\b\b\b\b\b\b\b\b\b\b\b\b\b\b\b\b\b\b\b\b\b\b\b\b\b\b\b\b\b\b\b\b\b\b\b\b\b\b\b\b\b\b\b\b\b\b\b\b\b\b\b\b\b\b\b\b\b\b\b\b\b\b\b\b\b\b\b\b\b\b\b\b\b\b\b\b\b\b\b\b\b\b\b\b\b\b\b\b\b\b\b\b\b\b\b\b\b\b\b\b\b\b\b\b\b\b\b\b\b\b\b\b\b\b\b\b\b\b\b\b\b\b\b\b\b\b\b\b\b\b\b\b\b\b\b\b\b\b\b\b\b\b\b\b\b\b\b\b\b\b\b\b\b\b\b\b\b\b\b\b\b\b\b\b\b\b\b\b\b\b\b\b\b\b\b\b\b\b\b\b\b\b\b\b\b\b\b\b\b\b\b\b\b\b\b\b\b\b\b\b\b\b\b\b\b\b\b\b\b\b\b\b\b\b\b\b\b\b"
     ]
    },
    {
     "name": "stdout",
     "output_type": "stream",
     "text": [
      " 5800/10000 [================>.............] - ETA: 39s - loss: 12.9997 - dense_3_loss: 2.4624 - dense_3_acc: 0.7037 - dense_3_acc_1: 0.7817 - dense_3_acc_2: 0.4627 - dense_3_acc_3: 0.1590 - dense_3_acc_4: 0.9753 - dense_3_acc_5: 0.6967 - dense_3_acc_6: 0.1560 - dense_3_acc_7: 0.9260 - dense_3_acc_8: 0.3580 - dense_3_acc_9: 0.13 - ETA: 38s - loss: 12.8750 - dense_3_loss: 2.4589 - dense_3_acc: 0.7126 - dense_3_acc_1: 0.7865 - dense_3_acc_2: 0.4719 - dense_3_acc_3: 0.1665 - dense_3_acc_4: 0.9761 - dense_3_acc_5: 0.7035 - dense_3_acc_6: 0.1568 - dense_3_acc_7: 0.9284 - dense_3_acc_8: 0.3581 - dense_3_acc_9: 0.13 - ETA: 36s - loss: 12.7465 - dense_3_loss: 2.4553 - dense_3_acc: 0.7188 - dense_3_acc_1: 0.7903 - dense_3_acc_2: 0.4813 - dense_3_acc_3: 0.1731 - dense_3_acc_4: 0.9769 - dense_3_acc_5: 0.7087 - dense_3_acc_6: 0.1578 - dense_3_acc_7: 0.9306 - dense_3_acc_8: 0.3625 - dense_3_acc_9: 0.13 - ETA: 35s - loss: 12.6167 - dense_3_loss: 2.4471 - dense_3_acc: 0.7248 - dense_3_acc_1: 0.7942 - dense_3_acc_2: 0.4891 - dense_3_acc_3: 0.1797 - dense_3_acc_4: 0.9776 - dense_3_acc_5: 0.7158 - dense_3_acc_6: 0.1609 - dense_3_acc_7: 0.9327 - dense_3_acc_8: 0.3645 - dense_3_acc_9: 0.13 - ETA: 33s - loss: 12.4864 - dense_3_loss: 2.4380 - dense_3_acc: 0.7306 - dense_3_acc_1: 0.7976 - dense_3_acc_2: 0.4976 - dense_3_acc_3: 0.1859 - dense_3_acc_4: 0.9782 - dense_3_acc_5: 0.7235 - dense_3_acc_6: 0.1641 - dense_3_acc_7: 0.9347 - dense_3_acc_8: 0.3656 - dense_3_acc_9: 0.13 - ETA: 32s - loss: 12.3752 - dense_3_loss: 2.4345 - dense_3_acc: 0.7357 - dense_3_acc_1: 0.8020 - dense_3_acc_2: 0.5040 - dense_3_acc_3: 0.1951 - dense_3_acc_4: 0.9789 - dense_3_acc_5: 0.7297 - dense_3_acc_6: 0.1677 - dense_3_acc_7: 0.9366 - dense_3_acc_8: 0.3646 - dense_3_acc_9: 0.13 - ETA: 31s - loss: 12.2510 - dense_3_loss: 2.4273 - dense_3_acc: 0.7419 - dense_3_acc_1: 0.8064 - dense_3_acc_2: 0.5122 - dense_3_acc_3: 0.2008 - dense_3_acc_4: 0.9794 - dense_3_acc_5: 0.7364 - dense_3_acc_6: 0.1714 - dense_3_acc_7: 0.9383 - dense_3_acc_8: 0.3681 - dense_3_acc_9: 0.13 - ETA: 30s - loss: 12.1291 - dense_3_loss: 2.4211 - dense_3_acc: 0.7481 - dense_3_acc_1: 0.8108 - dense_3_acc_2: 0.5211 - dense_3_acc_3: 0.2059 - dense_3_acc_4: 0.9800 - dense_3_acc_5: 0.7419 - dense_3_acc_6: 0.1759 - dense_3_acc_7: 0.9400 - dense_3_acc_8: 0.3711 - dense_3_acc_9: 0.13 - ETA: 29s - loss: 12.0135 - dense_3_loss: 2.4148 - dense_3_acc: 0.7532 - dense_3_acc_1: 0.8145 - dense_3_acc_2: 0.5276 - dense_3_acc_3: 0.2126 - dense_3_acc_4: 0.9805 - dense_3_acc_5: 0.7474 - dense_3_acc_6: 0.1792 - dense_3_acc_7: 0.9416 - dense_3_acc_8: 0.3716 - dense_3_acc_9: 0.13 - ETA: 28s - loss: 11.9038 - dense_3_loss: 2.4098 - dense_3_acc: 0.7590 - dense_3_acc_1: 0.8185 - dense_3_acc_2: 0.5367 - dense_3_acc_3: 0.2233 - dense_3_acc_4: 0.9810 - dense_3_acc_5: 0.7513 - dense_3_acc_6: 0.1803 - dense_3_acc_7: 0.9431 - dense_3_acc_8: 0.3736 - dense_3_acc_9: 0.13 - ETA: 27s - loss: 11.7997 - dense_3_loss: 2.4044 - dense_3_acc: 0.7628 - dense_3_acc_1: 0.8213 - dense_3_acc_2: 0.5435 - dense_3_acc_3: 0.2320 - dense_3_acc_4: 0.9815 - dense_3_acc_5: 0.7555 - dense_3_acc_6: 0.1828 - dense_3_acc_7: 0.9445 - dense_3_acc_8: 0.3758 - dense_3_acc_9: 0.13 - ETA: 26s - loss: 11.6981 - dense_3_loss: 2.3987 - dense_3_acc: 0.7661 - dense_3_acc_1: 0.8232 - dense_3_acc_2: 0.5498 - dense_3_acc_3: 0.2420 - dense_3_acc_4: 0.9820 - dense_3_acc_5: 0.7600 - dense_3_acc_6: 0.1873 - dense_3_acc_7: 0.9459 - dense_3_acc_8: 0.3773 - dense_3_acc_9: 0.13 - ETA: 25s - loss: 11.5921 - dense_3_loss: 2.3937 - dense_3_acc: 0.7702 - dense_3_acc_1: 0.8260 - dense_3_acc_2: 0.5536 - dense_3_acc_3: 0.2524 - dense_3_acc_4: 0.9824 - dense_3_acc_5: 0.7640 - dense_3_acc_6: 0.1926 - dense_3_acc_7: 0.9471 - dense_3_acc_8: 0.3807 - dense_3_acc_9: 0.14 - ETA: 24s - loss: 11.4949 - dense_3_loss: 2.3883 - dense_3_acc: 0.7747 - dense_3_acc_1: 0.8288 - dense_3_acc_2: 0.5588 - dense_3_acc_3: 0.2633 - dense_3_acc_4: 0.9828 - dense_3_acc_5: 0.7677 - dense_3_acc_6: 0.1944 - dense_3_acc_7: 0.9484 - dense_3_acc_8: 0.3807 - dense_3_acc_9: 0.14 - ETA: 23s - loss: 11.3989 - dense_3_loss: 2.3827 - dense_3_acc: 0.7782 - dense_3_acc_1: 0.8314 - dense_3_acc_2: 0.5652 - dense_3_acc_3: 0.2714 - dense_3_acc_4: 0.9832 - dense_3_acc_5: 0.7714 - dense_3_acc_6: 0.1986 - dense_3_acc_7: 0.9495 - dense_3_acc_8: 0.3841 - dense_3_acc_9: 0.14 - ETA: 23s - loss: 11.3006 - dense_3_loss: 2.3764 - dense_3_acc: 0.7822 - dense_3_acc_1: 0.8342 - dense_3_acc_2: 0.5713 - dense_3_acc_3: 0.2813 - dense_3_acc_4: 0.9836 - dense_3_acc_5: 0.7751 - dense_3_acc_6: 0.2027 - dense_3_acc_7: 0.9507 - dense_3_acc_8: 0.3840 - dense_3_acc_9: 0.14 - ETA: 22s - loss: 11.2102 - dense_3_loss: 2.3737 - dense_3_acc: 0.7861 - dense_3_acc_1: 0.8367 - dense_3_acc_2: 0.5776 - dense_3_acc_3: 0.2915 - dense_3_acc_4: 0.9839 - dense_3_acc_5: 0.7791 - dense_3_acc_6: 0.2059 - dense_3_acc_7: 0.9517 - dense_3_acc_8: 0.3859 - dense_3_acc_9: 0.14 - ETA: 21s - loss: 11.1179 - dense_3_loss: 2.3674 - dense_3_acc: 0.7891 - dense_3_acc_1: 0.8387 - dense_3_acc_2: 0.5830 - dense_3_acc_3: 0.3017 - dense_3_acc_4: 0.9843 - dense_3_acc_5: 0.7826 - dense_3_acc_6: 0.2100 - dense_3_acc_7: 0.9528 - dense_3_acc_8: 0.3881 - dense_3_acc_9: 0.15 - ETA: 20s - loss: 11.0341 - dense_3_loss: 2.3646 - dense_3_acc: 0.7927 - dense_3_acc_1: 0.8413 - dense_3_acc_2: 0.5881 - dense_3_acc_3: 0.3104 - dense_3_acc_4: 0.9846 - dense_3_acc_5: 0.7854 - dense_3_acc_6: 0.2131 - dense_3_acc_7: 0.9537 - dense_3_acc_8: 0.3900 - dense_3_acc_9: 0.15 - ETA: 20s - loss: 10.9388 - dense_3_loss: 2.3584 - dense_3_acc: 0.7965 - dense_3_acc_1: 0.8441 - dense_3_acc_2: 0.5914 - dense_3_acc_3: 0.3210 - dense_3_acc_4: 0.9849 - dense_3_acc_5: 0.7892 - dense_3_acc_6: 0.2171 - dense_3_acc_7: 0.9547 - dense_3_acc_8: 0.3904 - dense_3_acc_9: 0.15 - ETA: 19s - loss: 10.8460 - dense_3_loss: 2.3537 - dense_3_acc: 0.8002 - dense_3_acc_1: 0.8466 - dense_3_acc_2: 0.5966 - dense_3_acc_3: 0.3300 - dense_3_acc_4: 0.9852 - dense_3_acc_5: 0.7928 - dense_3_acc_6: 0.2206 - dense_3_acc_7: 0.9556 - dense_3_acc_8: 0.3928 - dense_3_acc_9: 0.15 - ETA: 19s - loss: 10.7651 - dense_3_loss: 2.3482 - dense_3_acc: 0.8033 - dense_3_acc_1: 0.8480 - dense_3_acc_2: 0.6014 - dense_3_acc_3: 0.3384 - dense_3_acc_4: 0.9855 - dense_3_acc_5: 0.7963 - dense_3_acc_6: 0.2235 - dense_3_acc_7: 0.9565 - dense_3_acc_8: 0.3939 - dense_3_acc_9: 0.15 - ETA: 18s - loss: 10.6808 - dense_3_loss: 2.3424 - dense_3_acc: 0.8062 - dense_3_acc_1: 0.8500 - dense_3_acc_2: 0.6067 - dense_3_acc_3: 0.3467 - dense_3_acc_4: 0.9858 - dense_3_acc_5: 0.7994 - dense_3_acc_6: 0.2271 - dense_3_acc_7: 0.9573 - dense_3_acc_8: 0.3956 - dense_3_acc_9: 0.16 - ETA: 17s - loss: 10.5959 - dense_3_loss: 2.3367 - dense_3_acc: 0.8091 - dense_3_acc_1: 0.8523 - dense_3_acc_2: 0.6117 - dense_3_acc_3: 0.3545 - dense_3_acc_4: 0.9860 - dense_3_acc_5: 0.8023 - dense_3_acc_6: 0.2296 - dense_3_acc_7: 0.9581 - dense_3_acc_8: 0.3989 - dense_3_acc_9: 0.16 - ETA: 17s - loss: 10.5141 - dense_3_loss: 2.3315 - dense_3_acc: 0.8113 - dense_3_acc_1: 0.8539 - dense_3_acc_2: 0.6165 - dense_3_acc_3: 0.3639 - dense_3_acc_4: 0.9863 - dense_3_acc_5: 0.8046 - dense_3_acc_6: 0.2339 - dense_3_acc_7: 0.9589 - dense_3_acc_8: 0.4019 - dense_3_acc_9: 0.16 - ETA: 16s - loss: 10.4305 - dense_3_loss: 2.3275 - dense_3_acc: 0.8144 - dense_3_acc_1: 0.8564 - dense_3_acc_2: 0.6211 - dense_3_acc_3: 0.3722 - dense_3_acc_4: 0.9865 - dense_3_acc_5: 0.8069 - dense_3_acc_6: 0.2378 - dense_3_acc_7: 0.9596 - dense_3_acc_8: 0.4044 - dense_3_acc_9: 0.16 - ETA: 16s - loss: 10.3564 - dense_3_loss: 2.3242 - dense_3_acc: 0.8175 - dense_3_acc_1: 0.8584 - dense_3_acc_2: 0.6246 - dense_3_acc_3: 0.3798 - dense_3_acc_4: 0.9868 - dense_3_acc_5: 0.8093 - dense_3_acc_6: 0.2414 - dense_3_acc_7: 0.9604 - dense_3_acc_8: 0.4068 - dense_3_acc_9: 0.16 - ETA: 15s - loss: 10.2796 - dense_3_loss: 2.3183 - dense_3_acc: 0.8198 - dense_3_acc_1: 0.8600 - dense_3_acc_2: 0.6281 - dense_3_acc_3: 0.3884 - dense_3_acc_4: 0.9870 - dense_3_acc_5: 0.8121 - dense_3_acc_6: 0.2461 - dense_3_acc_7: 0.9611 - dense_3_acc_8: 0.4084 - dense_3_acc_9: 0.16 - ETA: 15s - loss: 10.2069 - dense_3_loss: 2.3151 - dense_3_acc: 0.8214 - dense_3_acc_1: 0.8610 - dense_3_acc_2: 0.6317 - dense_3_acc_3: 0.3967 - dense_3_acc_4: 0.9872 - dense_3_acc_5: 0.8150 - dense_3_acc_6: 0.2495 - dense_3_acc_7: 0.9617 - dense_3_acc_8: 0.4110 - dense_3_acc_9: 0.1686"
     ]
    },
    {
     "name": "stdout",
     "output_type": "stream",
     "text": [
      " 8700/10000 [=========================>....] - ETA: 14s - loss: 10.1277 - dense_3_loss: 2.3097 - dense_3_acc: 0.8242 - dense_3_acc_1: 0.8632 - dense_3_acc_2: 0.6359 - dense_3_acc_3: 0.4039 - dense_3_acc_4: 0.9875 - dense_3_acc_5: 0.8178 - dense_3_acc_6: 0.2549 - dense_3_acc_7: 0.9624 - dense_3_acc_8: 0.4120 - dense_3_acc_9: 0.17 - ETA: 14s - loss: 10.0557 - dense_3_loss: 2.3053 - dense_3_acc: 0.8265 - dense_3_acc_1: 0.8648 - dense_3_acc_2: 0.6395 - dense_3_acc_3: 0.4123 - dense_3_acc_4: 0.9877 - dense_3_acc_5: 0.8200 - dense_3_acc_6: 0.2597 - dense_3_acc_7: 0.9630 - dense_3_acc_8: 0.4145 - dense_3_acc_9: 0.17 - ETA: 13s - loss: 9.9809 - dense_3_loss: 2.2996 - dense_3_acc: 0.8287 - dense_3_acc_1: 0.8664 - dense_3_acc_2: 0.6433 - dense_3_acc_3: 0.4200 - dense_3_acc_4: 0.9879 - dense_3_acc_5: 0.8223 - dense_3_acc_6: 0.2636 - dense_3_acc_7: 0.9636 - dense_3_acc_8: 0.4169 - dense_3_acc_9: 0.1746 - ETA: 13s - loss: 9.9016 - dense_3_loss: 2.2935 - dense_3_acc: 0.8311 - dense_3_acc_1: 0.8682 - dense_3_acc_2: 0.6465 - dense_3_acc_3: 0.4287 - dense_3_acc_4: 0.9881 - dense_3_acc_5: 0.8250 - dense_3_acc_6: 0.2690 - dense_3_acc_7: 0.9642 - dense_3_acc_8: 0.4197 - dense_3_acc_9: 0.176 - ETA: 12s - loss: 9.8253 - dense_3_loss: 2.2872 - dense_3_acc: 0.8335 - dense_3_acc_1: 0.8698 - dense_3_acc_2: 0.6502 - dense_3_acc_3: 0.4360 - dense_3_acc_4: 0.9883 - dense_3_acc_5: 0.8273 - dense_3_acc_6: 0.2748 - dense_3_acc_7: 0.9648 - dense_3_acc_8: 0.4227 - dense_3_acc_9: 0.179 - ETA: 12s - loss: 9.7512 - dense_3_loss: 2.2828 - dense_3_acc: 0.8361 - dense_3_acc_1: 0.8716 - dense_3_acc_2: 0.6539 - dense_3_acc_3: 0.4437 - dense_3_acc_4: 0.9884 - dense_3_acc_5: 0.8291 - dense_3_acc_6: 0.2800 - dense_3_acc_7: 0.9653 - dense_3_acc_8: 0.4252 - dense_3_acc_9: 0.180 - ETA: 11s - loss: 9.6817 - dense_3_loss: 2.2764 - dense_3_acc: 0.8378 - dense_3_acc_1: 0.8726 - dense_3_acc_2: 0.6574 - dense_3_acc_3: 0.4506 - dense_3_acc_4: 0.9886 - dense_3_acc_5: 0.8309 - dense_3_acc_6: 0.2868 - dense_3_acc_7: 0.9658 - dense_3_acc_8: 0.4265 - dense_3_acc_9: 0.184 - ETA: 11s - loss: 9.6123 - dense_3_loss: 2.2714 - dense_3_acc: 0.8400 - dense_3_acc_1: 0.8741 - dense_3_acc_2: 0.6609 - dense_3_acc_3: 0.4577 - dense_3_acc_4: 0.9888 - dense_3_acc_5: 0.8327 - dense_3_acc_6: 0.2926 - dense_3_acc_7: 0.9664 - dense_3_acc_8: 0.4282 - dense_3_acc_9: 0.185 - ETA: 10s - loss: 9.5529 - dense_3_loss: 2.2680 - dense_3_acc: 0.8415 - dense_3_acc_1: 0.8748 - dense_3_acc_2: 0.6633 - dense_3_acc_3: 0.4648 - dense_3_acc_4: 0.9890 - dense_3_acc_5: 0.8349 - dense_3_acc_6: 0.2973 - dense_3_acc_7: 0.9669 - dense_3_acc_8: 0.4312 - dense_3_acc_9: 0.186 - ETA: 10s - loss: 9.4918 - dense_3_loss: 2.2628 - dense_3_acc: 0.8434 - dense_3_acc_1: 0.8762 - dense_3_acc_2: 0.6669 - dense_3_acc_3: 0.4712 - dense_3_acc_4: 0.9891 - dense_3_acc_5: 0.8359 - dense_3_acc_6: 0.3024 - dense_3_acc_7: 0.9674 - dense_3_acc_8: 0.4331 - dense_3_acc_9: 0.187 - ETA: 9s - loss: 9.4227 - dense_3_loss: 2.2583 - dense_3_acc: 0.8455 - dense_3_acc_1: 0.8778 - dense_3_acc_2: 0.6712 - dense_3_acc_3: 0.4774 - dense_3_acc_4: 0.9893 - dense_3_acc_5: 0.8378 - dense_3_acc_6: 0.3087 - dense_3_acc_7: 0.9678 - dense_3_acc_8: 0.4345 - dense_3_acc_9: 0.189 - ETA: 9s - loss: 9.3592 - dense_3_loss: 2.2529 - dense_3_acc: 0.8474 - dense_3_acc_1: 0.8791 - dense_3_acc_2: 0.6754 - dense_3_acc_3: 0.4831 - dense_3_acc_4: 0.9894 - dense_3_acc_5: 0.8389 - dense_3_acc_6: 0.3140 - dense_3_acc_7: 0.9683 - dense_3_acc_8: 0.4356 - dense_3_acc_9: 0.19 - ETA: 9s - loss: 9.3003 - dense_3_loss: 2.2494 - dense_3_acc: 0.8493 - dense_3_acc_1: 0.8806 - dense_3_acc_2: 0.6779 - dense_3_acc_3: 0.4894 - dense_3_acc_4: 0.9896 - dense_3_acc_5: 0.8403 - dense_3_acc_6: 0.3200 - dense_3_acc_7: 0.9687 - dense_3_acc_8: 0.4370 - dense_3_acc_9: 0.19 - ETA: 8s - loss: 9.2363 - dense_3_loss: 2.2448 - dense_3_acc: 0.8511 - dense_3_acc_1: 0.8821 - dense_3_acc_2: 0.6807 - dense_3_acc_3: 0.4943 - dense_3_acc_4: 0.9897 - dense_3_acc_5: 0.8421 - dense_3_acc_6: 0.3260 - dense_3_acc_7: 0.9690 - dense_3_acc_8: 0.4392 - dense_3_acc_9: 0.19 - ETA: 8s - loss: 9.1737 - dense_3_loss: 2.2409 - dense_3_acc: 0.8527 - dense_3_acc_1: 0.8836 - dense_3_acc_2: 0.6840 - dense_3_acc_3: 0.5000 - dense_3_acc_4: 0.9899 - dense_3_acc_5: 0.8434 - dense_3_acc_6: 0.3315 - dense_3_acc_7: 0.9695 - dense_3_acc_8: 0.4412 - dense_3_acc_9: 0.19 - ETA: 8s - loss: 9.1125 - dense_3_loss: 2.2358 - dense_3_acc: 0.8547 - dense_3_acc_1: 0.8851 - dense_3_acc_2: 0.6873 - dense_3_acc_3: 0.5057 - dense_3_acc_4: 0.9900 - dense_3_acc_5: 0.8447 - dense_3_acc_6: 0.3369 - dense_3_acc_7: 0.9699 - dense_3_acc_8: 0.4428 - dense_3_acc_9: 0.19 - ETA: 7s - loss: 9.0555 - dense_3_loss: 2.2301 - dense_3_acc: 0.8560 - dense_3_acc_1: 0.8864 - dense_3_acc_2: 0.6896 - dense_3_acc_3: 0.5103 - dense_3_acc_4: 0.9901 - dense_3_acc_5: 0.8465 - dense_3_acc_6: 0.3417 - dense_3_acc_7: 0.9703 - dense_3_acc_8: 0.4448 - dense_3_acc_9: 0.19 - ETA: 7s - loss: 8.9958 - dense_3_loss: 2.2252 - dense_3_acc: 0.8575 - dense_3_acc_1: 0.8875 - dense_3_acc_2: 0.6920 - dense_3_acc_3: 0.5161 - dense_3_acc_4: 0.9903 - dense_3_acc_5: 0.8478 - dense_3_acc_6: 0.3475 - dense_3_acc_7: 0.9707 - dense_3_acc_8: 0.4470 - dense_3_acc_9: 0.19 - ETA: 6s - loss: 8.9482 - dense_3_loss: 2.2240 - dense_3_acc: 0.8587 - dense_3_acc_1: 0.8884 - dense_3_acc_2: 0.6939 - dense_3_acc_3: 0.5209 - dense_3_acc_4: 0.9904 - dense_3_acc_5: 0.8495 - dense_3_acc_6: 0.3513 - dense_3_acc_7: 0.9710 - dense_3_acc_8: 0.4487 - dense_3_acc_9: 0.19 - ETA: 6s - loss: 8.8943 - dense_3_loss: 2.2195 - dense_3_acc: 0.8600 - dense_3_acc_1: 0.8895 - dense_3_acc_2: 0.6960 - dense_3_acc_3: 0.5258 - dense_3_acc_4: 0.9905 - dense_3_acc_5: 0.8512 - dense_3_acc_6: 0.3555 - dense_3_acc_7: 0.9714 - dense_3_acc_8: 0.4503 - dense_3_acc_9: 0.20 - ETA: 6s - loss: 8.8419 - dense_3_loss: 2.2145 - dense_3_acc: 0.8611 - dense_3_acc_1: 0.8903 - dense_3_acc_2: 0.6982 - dense_3_acc_3: 0.5304 - dense_3_acc_4: 0.9906 - dense_3_acc_5: 0.8528 - dense_3_acc_6: 0.3603 - dense_3_acc_7: 0.9718 - dense_3_acc_8: 0.4513 - dense_3_acc_9: 0.20 - ETA: 5s - loss: 8.7862 - dense_3_loss: 2.2087 - dense_3_acc: 0.8621 - dense_3_acc_1: 0.8913 - dense_3_acc_2: 0.7012 - dense_3_acc_3: 0.5354 - dense_3_acc_4: 0.9907 - dense_3_acc_5: 0.8539 - dense_3_acc_6: 0.3656 - dense_3_acc_7: 0.9721 - dense_3_acc_8: 0.4530 - dense_3_acc_9: 0.20 - ETA: 5s - loss: 8.7300 - dense_3_loss: 2.2058 - dense_3_acc: 0.8638 - dense_3_acc_1: 0.8925 - dense_3_acc_2: 0.7041 - dense_3_acc_3: 0.5406 - dense_3_acc_4: 0.9909 - dense_3_acc_5: 0.8556 - dense_3_acc_6: 0.3709 - dense_3_acc_7: 0.9725 - dense_3_acc_8: 0.4551 - dense_3_acc_9: 0.20 - ETA: 5s - loss: 8.6743 - dense_3_loss: 2.2017 - dense_3_acc: 0.8654 - dense_3_acc_1: 0.8937 - dense_3_acc_2: 0.7065 - dense_3_acc_3: 0.5460 - dense_3_acc_4: 0.9910 - dense_3_acc_5: 0.8572 - dense_3_acc_6: 0.3754 - dense_3_acc_7: 0.9728 - dense_3_acc_8: 0.4574 - dense_3_acc_9: 0.20 - ETA: 4s - loss: 8.6247 - dense_3_loss: 2.1972 - dense_3_acc: 0.8666 - dense_3_acc_1: 0.8946 - dense_3_acc_2: 0.7088 - dense_3_acc_3: 0.5512 - dense_3_acc_4: 0.9911 - dense_3_acc_5: 0.8584 - dense_3_acc_6: 0.3798 - dense_3_acc_7: 0.9731 - dense_3_acc_8: 0.4589 - dense_3_acc_9: 0.20 - ETA: 4s - loss: 8.5728 - dense_3_loss: 2.1922 - dense_3_acc: 0.8679 - dense_3_acc_1: 0.8955 - dense_3_acc_2: 0.7113 - dense_3_acc_3: 0.5558 - dense_3_acc_4: 0.9912 - dense_3_acc_5: 0.8599 - dense_3_acc_6: 0.3844 - dense_3_acc_7: 0.9735 - dense_3_acc_8: 0.4601 - dense_3_acc_9: 0.21 - ETA: 4s - loss: 8.5215 - dense_3_loss: 2.1872 - dense_3_acc: 0.8693 - dense_3_acc_1: 0.8965 - dense_3_acc_2: 0.7138 - dense_3_acc_3: 0.5606 - dense_3_acc_4: 0.9913 - dense_3_acc_5: 0.8612 - dense_3_acc_6: 0.3887 - dense_3_acc_7: 0.9738 - dense_3_acc_8: 0.4613 - dense_3_acc_9: 0.21 - ETA: 3s - loss: 8.4694 - dense_3_loss: 2.1816 - dense_3_acc: 0.8706 - dense_3_acc_1: 0.8973 - dense_3_acc_2: 0.7164 - dense_3_acc_3: 0.5650 - dense_3_acc_4: 0.9914 - dense_3_acc_5: 0.8626 - dense_3_acc_6: 0.3935 - dense_3_acc_7: 0.9741 - dense_3_acc_8: 0.4638 - dense_3_acc_9: 0.21 - ETA: 3s - loss: 8.4167 - dense_3_loss: 2.1754 - dense_3_acc: 0.8716 - dense_3_acc_1: 0.8982 - dense_3_acc_2: 0.7184 - dense_3_acc_3: 0.5691 - dense_3_acc_4: 0.9915 - dense_3_acc_5: 0.8639 - dense_3_acc_6: 0.3990 - dense_3_acc_7: 0.9744 - dense_3_acc_8: 0.4656 - dense_3_acc_9: 0.2168"
     ]
    },
    {
     "name": "stdout",
     "output_type": "stream",
     "text": [
      "10000/10000 [==============================] - ETA: 3s - loss: 8.3652 - dense_3_loss: 2.1704 - dense_3_acc: 0.8726 - dense_3_acc_1: 0.8990 - dense_3_acc_2: 0.7205 - dense_3_acc_3: 0.5739 - dense_3_acc_4: 0.9916 - dense_3_acc_5: 0.8651 - dense_3_acc_6: 0.4036 - dense_3_acc_7: 0.9747 - dense_3_acc_8: 0.4676 - dense_3_acc_9: 0.21 - ETA: 3s - loss: 8.3170 - dense_3_loss: 2.1654 - dense_3_acc: 0.8736 - dense_3_acc_1: 0.9000 - dense_3_acc_2: 0.7226 - dense_3_acc_3: 0.5782 - dense_3_acc_4: 0.9917 - dense_3_acc_5: 0.8664 - dense_3_acc_6: 0.4081 - dense_3_acc_7: 0.9749 - dense_3_acc_8: 0.4688 - dense_3_acc_9: 0.22 - ETA: 2s - loss: 8.2654 - dense_3_loss: 2.1598 - dense_3_acc: 0.8747 - dense_3_acc_1: 0.9009 - dense_3_acc_2: 0.7249 - dense_3_acc_3: 0.5827 - dense_3_acc_4: 0.9918 - dense_3_acc_5: 0.8679 - dense_3_acc_6: 0.4128 - dense_3_acc_7: 0.9752 - dense_3_acc_8: 0.4707 - dense_3_acc_9: 0.22 - ETA: 2s - loss: 8.2127 - dense_3_loss: 2.1526 - dense_3_acc: 0.8758 - dense_3_acc_1: 0.9019 - dense_3_acc_2: 0.7273 - dense_3_acc_3: 0.5870 - dense_3_acc_4: 0.9919 - dense_3_acc_5: 0.8690 - dense_3_acc_6: 0.4176 - dense_3_acc_7: 0.9755 - dense_3_acc_8: 0.4733 - dense_3_acc_9: 0.22 - ETA: 2s - loss: 8.1670 - dense_3_loss: 2.1491 - dense_3_acc: 0.8771 - dense_3_acc_1: 0.9027 - dense_3_acc_2: 0.7291 - dense_3_acc_3: 0.5911 - dense_3_acc_4: 0.9920 - dense_3_acc_5: 0.8700 - dense_3_acc_6: 0.4221 - dense_3_acc_7: 0.9758 - dense_3_acc_8: 0.4753 - dense_3_acc_9: 0.22 - ETA: 1s - loss: 8.1188 - dense_3_loss: 2.1444 - dense_3_acc: 0.8784 - dense_3_acc_1: 0.9038 - dense_3_acc_2: 0.7316 - dense_3_acc_3: 0.5947 - dense_3_acc_4: 0.9920 - dense_3_acc_5: 0.8712 - dense_3_acc_6: 0.4270 - dense_3_acc_7: 0.9760 - dense_3_acc_8: 0.4763 - dense_3_acc_9: 0.22 - ETA: 1s - loss: 8.0745 - dense_3_loss: 2.1400 - dense_3_acc: 0.8794 - dense_3_acc_1: 0.9044 - dense_3_acc_2: 0.7337 - dense_3_acc_3: 0.5988 - dense_3_acc_4: 0.9921 - dense_3_acc_5: 0.8720 - dense_3_acc_6: 0.4315 - dense_3_acc_7: 0.9763 - dense_3_acc_8: 0.4791 - dense_3_acc_9: 0.23 - ETA: 1s - loss: 8.0276 - dense_3_loss: 2.1351 - dense_3_acc: 0.8802 - dense_3_acc_1: 0.9051 - dense_3_acc_2: 0.7357 - dense_3_acc_3: 0.6026 - dense_3_acc_4: 0.9922 - dense_3_acc_5: 0.8727 - dense_3_acc_6: 0.4363 - dense_3_acc_7: 0.9765 - dense_3_acc_8: 0.4823 - dense_3_acc_9: 0.23 - ETA: 1s - loss: 7.9822 - dense_3_loss: 2.1293 - dense_3_acc: 0.8811 - dense_3_acc_1: 0.9058 - dense_3_acc_2: 0.7377 - dense_3_acc_3: 0.6059 - dense_3_acc_4: 0.9923 - dense_3_acc_5: 0.8738 - dense_3_acc_6: 0.4402 - dense_3_acc_7: 0.9768 - dense_3_acc_8: 0.4832 - dense_3_acc_9: 0.23 - ETA: 0s - loss: 7.9403 - dense_3_loss: 2.1242 - dense_3_acc: 0.8823 - dense_3_acc_1: 0.9066 - dense_3_acc_2: 0.7390 - dense_3_acc_3: 0.6081 - dense_3_acc_4: 0.9924 - dense_3_acc_5: 0.8749 - dense_3_acc_6: 0.4438 - dense_3_acc_7: 0.9770 - dense_3_acc_8: 0.4855 - dense_3_acc_9: 0.23 - ETA: 0s - loss: 7.8949 - dense_3_loss: 2.1190 - dense_3_acc: 0.8833 - dense_3_acc_1: 0.9074 - dense_3_acc_2: 0.7411 - dense_3_acc_3: 0.6117 - dense_3_acc_4: 0.9924 - dense_3_acc_5: 0.8761 - dense_3_acc_6: 0.4478 - dense_3_acc_7: 0.9772 - dense_3_acc_8: 0.4872 - dense_3_acc_9: 0.23 - ETA: 0s - loss: 7.8514 - dense_3_loss: 2.1139 - dense_3_acc: 0.8840 - dense_3_acc_1: 0.9082 - dense_3_acc_2: 0.7432 - dense_3_acc_3: 0.6154 - dense_3_acc_4: 0.9925 - dense_3_acc_5: 0.8772 - dense_3_acc_6: 0.4515 - dense_3_acc_7: 0.9775 - dense_3_acc_8: 0.4894 - dense_3_acc_9: 0.23 - 26s 3ms/step - loss: 7.8088 - dense_3_loss: 2.1078 - dense_3_acc: 0.8850 - dense_3_acc_1: 0.9089 - dense_3_acc_2: 0.7454 - dense_3_acc_3: 0.6190 - dense_3_acc_4: 0.9926 - dense_3_acc_5: 0.8779 - dense_3_acc_6: 0.4553 - dense_3_acc_7: 0.9777 - dense_3_acc_8: 0.4909 - dense_3_acc_9: 0.2420\n"
     ]
    },
    {
     "data": {
      "text/plain": [
       "<keras.callbacks.History at 0x29c486bbd88>"
      ]
     },
     "execution_count": 35,
     "metadata": {},
     "output_type": "execute_result"
    }
   ],
   "source": [
    "model.fit([Xoh, s0, c0], outputs, epochs=1, batch_size=100)"
   ]
  },
  {
   "cell_type": "markdown",
   "metadata": {},
   "source": [
    "While training you can see the loss as well as the accuracy on each of the 10 positions of the output. The table below gives you an example of what the accuracies could be if the batch had 2 examples: \n",
    "\n",
    "<img src=\"images/table.png\" style=\"width:700;height:200px;\"> <br>\n",
    "<caption><center>Thus, `dense_2_acc_8: 0.89` means that you are predicting the 7th character of the output correctly 89% of the time in the current batch of data. </center></caption>\n",
    "\n",
    "\n",
    "We have run this model for longer, and saved the weights. Run the next cell to load our weights. (By training a model for several minutes, you should be able to obtain a model of similar accuracy, but loading our model will save you time.) "
   ]
  },
  {
   "cell_type": "code",
   "execution_count": 36,
   "metadata": {},
   "outputs": [],
   "source": [
    "model.load_weights('models/model.h5')"
   ]
  },
  {
   "cell_type": "markdown",
   "metadata": {},
   "source": [
    "You can now see the results on new examples."
   ]
  },
  {
   "cell_type": "code",
   "execution_count": 37,
   "metadata": {},
   "outputs": [
    {
     "ename": "ValueError",
     "evalue": "Error when checking input: expected input_2 to have 3 dimensions, but got array with shape (37, 30)",
     "output_type": "error",
     "traceback": [
      "\u001b[1;31m---------------------------------------------------------------------------\u001b[0m",
      "\u001b[1;31mValueError\u001b[0m                                Traceback (most recent call last)",
      "\u001b[1;32m<ipython-input-37-392dba7ff8f2>\u001b[0m in \u001b[0;36m<module>\u001b[1;34m\u001b[0m\n\u001b[0;32m      5\u001b[0m     \u001b[0msource\u001b[0m \u001b[1;33m=\u001b[0m \u001b[0mstring_to_int\u001b[0m\u001b[1;33m(\u001b[0m\u001b[0mexample\u001b[0m\u001b[1;33m,\u001b[0m \u001b[0mTx\u001b[0m\u001b[1;33m,\u001b[0m \u001b[0mhuman_vocab\u001b[0m\u001b[1;33m)\u001b[0m\u001b[1;33m\u001b[0m\u001b[1;33m\u001b[0m\u001b[0m\n\u001b[0;32m      6\u001b[0m     \u001b[0msource\u001b[0m \u001b[1;33m=\u001b[0m \u001b[0mnp\u001b[0m\u001b[1;33m.\u001b[0m\u001b[0marray\u001b[0m\u001b[1;33m(\u001b[0m\u001b[0mlist\u001b[0m\u001b[1;33m(\u001b[0m\u001b[0mmap\u001b[0m\u001b[1;33m(\u001b[0m\u001b[1;32mlambda\u001b[0m \u001b[0mx\u001b[0m\u001b[1;33m:\u001b[0m \u001b[0mto_categorical\u001b[0m\u001b[1;33m(\u001b[0m\u001b[0mx\u001b[0m\u001b[1;33m,\u001b[0m \u001b[0mnum_classes\u001b[0m\u001b[1;33m=\u001b[0m\u001b[0mlen\u001b[0m\u001b[1;33m(\u001b[0m\u001b[0mhuman_vocab\u001b[0m\u001b[1;33m)\u001b[0m\u001b[1;33m)\u001b[0m\u001b[1;33m,\u001b[0m \u001b[0msource\u001b[0m\u001b[1;33m)\u001b[0m\u001b[1;33m)\u001b[0m\u001b[1;33m)\u001b[0m\u001b[1;33m.\u001b[0m\u001b[0mswapaxes\u001b[0m\u001b[1;33m(\u001b[0m\u001b[1;36m0\u001b[0m\u001b[1;33m,\u001b[0m\u001b[1;36m1\u001b[0m\u001b[1;33m)\u001b[0m\u001b[1;33m\u001b[0m\u001b[1;33m\u001b[0m\u001b[0m\n\u001b[1;32m----> 7\u001b[1;33m     \u001b[0mprediction\u001b[0m \u001b[1;33m=\u001b[0m \u001b[0mmodel\u001b[0m\u001b[1;33m.\u001b[0m\u001b[0mpredict\u001b[0m\u001b[1;33m(\u001b[0m\u001b[1;33m[\u001b[0m\u001b[0msource\u001b[0m\u001b[1;33m,\u001b[0m \u001b[0ms0\u001b[0m\u001b[1;33m,\u001b[0m \u001b[0mc0\u001b[0m\u001b[1;33m]\u001b[0m\u001b[1;33m)\u001b[0m\u001b[1;33m\u001b[0m\u001b[1;33m\u001b[0m\u001b[0m\n\u001b[0m\u001b[0;32m      8\u001b[0m     \u001b[0mprediction\u001b[0m \u001b[1;33m=\u001b[0m \u001b[0mnp\u001b[0m\u001b[1;33m.\u001b[0m\u001b[0margmax\u001b[0m\u001b[1;33m(\u001b[0m\u001b[0mprediction\u001b[0m\u001b[1;33m,\u001b[0m \u001b[0maxis\u001b[0m \u001b[1;33m=\u001b[0m \u001b[1;33m-\u001b[0m\u001b[1;36m1\u001b[0m\u001b[1;33m)\u001b[0m\u001b[1;33m\u001b[0m\u001b[1;33m\u001b[0m\u001b[0m\n\u001b[0;32m      9\u001b[0m     \u001b[0moutput\u001b[0m \u001b[1;33m=\u001b[0m \u001b[1;33m[\u001b[0m\u001b[0minv_machine_vocab\u001b[0m\u001b[1;33m[\u001b[0m\u001b[0mint\u001b[0m\u001b[1;33m(\u001b[0m\u001b[0mi\u001b[0m\u001b[1;33m)\u001b[0m\u001b[1;33m]\u001b[0m \u001b[1;32mfor\u001b[0m \u001b[0mi\u001b[0m \u001b[1;32min\u001b[0m \u001b[0mprediction\u001b[0m\u001b[1;33m]\u001b[0m\u001b[1;33m\u001b[0m\u001b[1;33m\u001b[0m\u001b[0m\n",
      "\u001b[1;32m~\\Anaconda3\\lib\\site-packages\\keras\\engine\\training.py\u001b[0m in \u001b[0;36mpredict\u001b[1;34m(self, x, batch_size, verbose, steps)\u001b[0m\n\u001b[0;32m   1147\u001b[0m                              'argument.')\n\u001b[0;32m   1148\u001b[0m         \u001b[1;31m# Validate user data.\u001b[0m\u001b[1;33m\u001b[0m\u001b[1;33m\u001b[0m\u001b[1;33m\u001b[0m\u001b[0m\n\u001b[1;32m-> 1149\u001b[1;33m         \u001b[0mx\u001b[0m\u001b[1;33m,\u001b[0m \u001b[0m_\u001b[0m\u001b[1;33m,\u001b[0m \u001b[0m_\u001b[0m \u001b[1;33m=\u001b[0m \u001b[0mself\u001b[0m\u001b[1;33m.\u001b[0m\u001b[0m_standardize_user_data\u001b[0m\u001b[1;33m(\u001b[0m\u001b[0mx\u001b[0m\u001b[1;33m)\u001b[0m\u001b[1;33m\u001b[0m\u001b[1;33m\u001b[0m\u001b[0m\n\u001b[0m\u001b[0;32m   1150\u001b[0m         \u001b[1;32mif\u001b[0m \u001b[0mself\u001b[0m\u001b[1;33m.\u001b[0m\u001b[0mstateful\u001b[0m\u001b[1;33m:\u001b[0m\u001b[1;33m\u001b[0m\u001b[1;33m\u001b[0m\u001b[0m\n\u001b[0;32m   1151\u001b[0m             \u001b[1;32mif\u001b[0m \u001b[0mx\u001b[0m\u001b[1;33m[\u001b[0m\u001b[1;36m0\u001b[0m\u001b[1;33m]\u001b[0m\u001b[1;33m.\u001b[0m\u001b[0mshape\u001b[0m\u001b[1;33m[\u001b[0m\u001b[1;36m0\u001b[0m\u001b[1;33m]\u001b[0m \u001b[1;33m>\u001b[0m \u001b[0mbatch_size\u001b[0m \u001b[1;32mand\u001b[0m \u001b[0mx\u001b[0m\u001b[1;33m[\u001b[0m\u001b[1;36m0\u001b[0m\u001b[1;33m]\u001b[0m\u001b[1;33m.\u001b[0m\u001b[0mshape\u001b[0m\u001b[1;33m[\u001b[0m\u001b[1;36m0\u001b[0m\u001b[1;33m]\u001b[0m \u001b[1;33m%\u001b[0m \u001b[0mbatch_size\u001b[0m \u001b[1;33m!=\u001b[0m \u001b[1;36m0\u001b[0m\u001b[1;33m:\u001b[0m\u001b[1;33m\u001b[0m\u001b[1;33m\u001b[0m\u001b[0m\n",
      "\u001b[1;32m~\\Anaconda3\\lib\\site-packages\\keras\\engine\\training.py\u001b[0m in \u001b[0;36m_standardize_user_data\u001b[1;34m(self, x, y, sample_weight, class_weight, check_array_lengths, batch_size)\u001b[0m\n\u001b[0;32m    749\u001b[0m             \u001b[0mfeed_input_shapes\u001b[0m\u001b[1;33m,\u001b[0m\u001b[1;33m\u001b[0m\u001b[1;33m\u001b[0m\u001b[0m\n\u001b[0;32m    750\u001b[0m             \u001b[0mcheck_batch_axis\u001b[0m\u001b[1;33m=\u001b[0m\u001b[1;32mFalse\u001b[0m\u001b[1;33m,\u001b[0m  \u001b[1;31m# Don't enforce the batch size.\u001b[0m\u001b[1;33m\u001b[0m\u001b[1;33m\u001b[0m\u001b[0m\n\u001b[1;32m--> 751\u001b[1;33m             exception_prefix='input')\n\u001b[0m\u001b[0;32m    752\u001b[0m \u001b[1;33m\u001b[0m\u001b[0m\n\u001b[0;32m    753\u001b[0m         \u001b[1;32mif\u001b[0m \u001b[0my\u001b[0m \u001b[1;32mis\u001b[0m \u001b[1;32mnot\u001b[0m \u001b[1;32mNone\u001b[0m\u001b[1;33m:\u001b[0m\u001b[1;33m\u001b[0m\u001b[1;33m\u001b[0m\u001b[0m\n",
      "\u001b[1;32m~\\Anaconda3\\lib\\site-packages\\keras\\engine\\training_utils.py\u001b[0m in \u001b[0;36mstandardize_input_data\u001b[1;34m(data, names, shapes, check_batch_axis, exception_prefix)\u001b[0m\n\u001b[0;32m    126\u001b[0m                         \u001b[1;34m': expected '\u001b[0m \u001b[1;33m+\u001b[0m \u001b[0mnames\u001b[0m\u001b[1;33m[\u001b[0m\u001b[0mi\u001b[0m\u001b[1;33m]\u001b[0m \u001b[1;33m+\u001b[0m \u001b[1;34m' to have '\u001b[0m \u001b[1;33m+\u001b[0m\u001b[1;33m\u001b[0m\u001b[1;33m\u001b[0m\u001b[0m\n\u001b[0;32m    127\u001b[0m                         \u001b[0mstr\u001b[0m\u001b[1;33m(\u001b[0m\u001b[0mlen\u001b[0m\u001b[1;33m(\u001b[0m\u001b[0mshape\u001b[0m\u001b[1;33m)\u001b[0m\u001b[1;33m)\u001b[0m \u001b[1;33m+\u001b[0m \u001b[1;34m' dimensions, but got array '\u001b[0m\u001b[1;33m\u001b[0m\u001b[1;33m\u001b[0m\u001b[0m\n\u001b[1;32m--> 128\u001b[1;33m                         'with shape ' + str(data_shape))\n\u001b[0m\u001b[0;32m    129\u001b[0m                 \u001b[1;32mif\u001b[0m \u001b[1;32mnot\u001b[0m \u001b[0mcheck_batch_axis\u001b[0m\u001b[1;33m:\u001b[0m\u001b[1;33m\u001b[0m\u001b[1;33m\u001b[0m\u001b[0m\n\u001b[0;32m    130\u001b[0m                     \u001b[0mdata_shape\u001b[0m \u001b[1;33m=\u001b[0m \u001b[0mdata_shape\u001b[0m\u001b[1;33m[\u001b[0m\u001b[1;36m1\u001b[0m\u001b[1;33m:\u001b[0m\u001b[1;33m]\u001b[0m\u001b[1;33m\u001b[0m\u001b[1;33m\u001b[0m\u001b[0m\n",
      "\u001b[1;31mValueError\u001b[0m: Error when checking input: expected input_2 to have 3 dimensions, but got array with shape (37, 30)"
     ]
    }
   ],
   "source": [
    "EXAMPLES = ['3 May 1979', '5 April 09', '21th of August 2016', 'Tue 10 Jul 2007', 'Saturday May 9 2018', 'March 3 2001', 'March 3rd 2001', '1 March 2001']\n",
    "\n",
    "for example in EXAMPLES:\n",
    "    \n",
    "    source = string_to_int(example, Tx, human_vocab)\n",
    "    source = np.array(list(map(lambda x: to_categorical(x, num_classes=len(human_vocab)), source))).swapaxes(0,1)\n",
    "    prediction = model.predict([source, s0, c0])\n",
    "    prediction = np.argmax(prediction, axis = -1)\n",
    "    output = [inv_machine_vocab[int(i)] for i in prediction]\n",
    "    \n",
    "    print(\"source:\", example)\n",
    "    print(\"output:\", ''.join(output))"
   ]
  },
  {
   "cell_type": "markdown",
   "metadata": {},
   "source": [
    "You can also change these examples to test with your own examples. The next part will give you a better sense on what the attention mechanism is doing--i.e., what part of the input the network is paying attention to when generating a particular output character. "
   ]
  },
  {
   "cell_type": "markdown",
   "metadata": {},
   "source": [
    "## 3 - Visualizing Attention (Optional / Ungraded)\n",
    "\n",
    "Since the problem has a fixed output length of 10, it is also possible to carry out this task using 10 different softmax units to generate the 10 characters of the output. But one advantage of the attention model is that each part of the output (say the month) knows it needs to depend only on a small part of the input (the characters in the input giving the month). We can  visualize what part of the output is looking at what part of the input.\n",
    "\n",
    "Consider the task of translating \"Saturday 9 May 2018\" to \"2018-05-09\". If we visualize the computed $\\alpha^{\\langle t, t' \\rangle}$ we get this: \n",
    "\n",
    "<img src=\"images/date_attention.png\" style=\"width:600;height:300px;\"> <br>\n",
    "<caption><center> **Figure 8**: Full Attention Map</center></caption>\n",
    "\n",
    "Notice how the output ignores the \"Saturday\" portion of the input. None of the output timesteps are paying much attention to that portion of the input. We see also that 9 has been translated as 09 and May has been correctly translated into 05, with the output paying attention to the parts of the input it needs to to make the translation. The year mostly requires it to pay attention to the input's \"18\" in order to generate \"2018.\" \n",
    "\n"
   ]
  },
  {
   "cell_type": "markdown",
   "metadata": {},
   "source": [
    "### 3.1 - Getting the activations from the network\n",
    "\n",
    "Lets now visualize the attention values in your network. We'll propagate an example through the network, then visualize the values of $\\alpha^{\\langle t, t' \\rangle}$. \n",
    "\n",
    "To figure out where the attention values are located, let's start by printing a summary of the model ."
   ]
  },
  {
   "cell_type": "code",
   "execution_count": 27,
   "metadata": {},
   "outputs": [
    {
     "name": "stdout",
     "output_type": "stream",
     "text": [
      "__________________________________________________________________________________________________\n",
      "Layer (type)                    Output Shape         Param #     Connected to                     \n",
      "==================================================================================================\n",
      "input_1 (InputLayer)            (None, 30, 37)       0                                            \n",
      "__________________________________________________________________________________________________\n",
      "s0 (InputLayer)                 (None, 64)           0                                            \n",
      "__________________________________________________________________________________________________\n",
      "bidirectional_1 (Bidirectional) (None, 30, 64)       17920       input_1[0][0]                    \n",
      "__________________________________________________________________________________________________\n",
      "repeat_vector_1 (RepeatVector)  (None, 30, 64)       0           s0[0][0]                         \n",
      "                                                                 lstm_1[0][0]                     \n",
      "                                                                 lstm_1[1][0]                     \n",
      "                                                                 lstm_1[2][0]                     \n",
      "                                                                 lstm_1[3][0]                     \n",
      "                                                                 lstm_1[4][0]                     \n",
      "                                                                 lstm_1[5][0]                     \n",
      "                                                                 lstm_1[6][0]                     \n",
      "                                                                 lstm_1[7][0]                     \n",
      "                                                                 lstm_1[8][0]                     \n",
      "__________________________________________________________________________________________________\n",
      "concatenate_1 (Concatenate)     (None, 30, 128)      0           bidirectional_1[0][0]            \n",
      "                                                                 repeat_vector_1[0][0]            \n",
      "                                                                 bidirectional_1[0][0]            \n",
      "                                                                 repeat_vector_1[1][0]            \n",
      "                                                                 bidirectional_1[0][0]            \n",
      "                                                                 repeat_vector_1[2][0]            \n",
      "                                                                 bidirectional_1[0][0]            \n",
      "                                                                 repeat_vector_1[3][0]            \n",
      "                                                                 bidirectional_1[0][0]            \n",
      "                                                                 repeat_vector_1[4][0]            \n",
      "                                                                 bidirectional_1[0][0]            \n",
      "                                                                 repeat_vector_1[5][0]            \n",
      "                                                                 bidirectional_1[0][0]            \n",
      "                                                                 repeat_vector_1[6][0]            \n",
      "                                                                 bidirectional_1[0][0]            \n",
      "                                                                 repeat_vector_1[7][0]            \n",
      "                                                                 bidirectional_1[0][0]            \n",
      "                                                                 repeat_vector_1[8][0]            \n",
      "                                                                 bidirectional_1[0][0]            \n",
      "                                                                 repeat_vector_1[9][0]            \n",
      "__________________________________________________________________________________________________\n",
      "dense_1 (Dense)                 (None, 30, 10)       1290        concatenate_1[0][0]              \n",
      "                                                                 concatenate_1[1][0]              \n",
      "                                                                 concatenate_1[2][0]              \n",
      "                                                                 concatenate_1[3][0]              \n",
      "                                                                 concatenate_1[4][0]              \n",
      "                                                                 concatenate_1[5][0]              \n",
      "                                                                 concatenate_1[6][0]              \n",
      "                                                                 concatenate_1[7][0]              \n",
      "                                                                 concatenate_1[8][0]              \n",
      "                                                                 concatenate_1[9][0]              \n",
      "__________________________________________________________________________________________________\n",
      "dense_2 (Dense)                 (None, 30, 1)        11          dense_1[0][0]                    \n",
      "                                                                 dense_1[1][0]                    \n",
      "                                                                 dense_1[2][0]                    \n",
      "                                                                 dense_1[3][0]                    \n",
      "                                                                 dense_1[4][0]                    \n",
      "                                                                 dense_1[5][0]                    \n",
      "                                                                 dense_1[6][0]                    \n",
      "                                                                 dense_1[7][0]                    \n",
      "                                                                 dense_1[8][0]                    \n",
      "                                                                 dense_1[9][0]                    \n",
      "__________________________________________________________________________________________________\n",
      "attention_weights (Activation)  (None, 30, 1)        0           dense_2[0][0]                    \n",
      "                                                                 dense_2[1][0]                    \n",
      "                                                                 dense_2[2][0]                    \n",
      "                                                                 dense_2[3][0]                    \n",
      "                                                                 dense_2[4][0]                    \n",
      "                                                                 dense_2[5][0]                    \n",
      "                                                                 dense_2[6][0]                    \n",
      "                                                                 dense_2[7][0]                    \n",
      "                                                                 dense_2[8][0]                    \n",
      "                                                                 dense_2[9][0]                    \n",
      "__________________________________________________________________________________________________\n",
      "dot_1 (Dot)                     (None, 1, 64)        0           attention_weights[0][0]          \n",
      "                                                                 bidirectional_1[0][0]            \n",
      "                                                                 attention_weights[1][0]          \n",
      "                                                                 bidirectional_1[0][0]            \n",
      "                                                                 attention_weights[2][0]          \n",
      "                                                                 bidirectional_1[0][0]            \n",
      "                                                                 attention_weights[3][0]          \n",
      "                                                                 bidirectional_1[0][0]            \n"
     ]
    },
    {
     "name": "stdout",
     "output_type": "stream",
     "text": [
      "                                                                 attention_weights[4][0]          \n",
      "                                                                 bidirectional_1[0][0]            \n",
      "                                                                 attention_weights[5][0]          \n",
      "                                                                 bidirectional_1[0][0]            \n",
      "                                                                 attention_weights[6][0]          \n",
      "                                                                 bidirectional_1[0][0]            \n",
      "                                                                 attention_weights[7][0]          \n",
      "                                                                 bidirectional_1[0][0]            \n",
      "                                                                 attention_weights[8][0]          \n",
      "                                                                 bidirectional_1[0][0]            \n",
      "                                                                 attention_weights[9][0]          \n",
      "                                                                 bidirectional_1[0][0]            \n",
      "__________________________________________________________________________________________________\n",
      "c0 (InputLayer)                 (None, 64)           0                                            \n",
      "__________________________________________________________________________________________________\n",
      "lstm_1 (LSTM)                   [(None, 64), (None,  33024       dot_1[0][0]                      \n",
      "                                                                 s0[0][0]                         \n",
      "                                                                 c0[0][0]                         \n",
      "                                                                 dot_1[1][0]                      \n",
      "                                                                 lstm_1[0][0]                     \n",
      "                                                                 lstm_1[0][2]                     \n",
      "                                                                 dot_1[2][0]                      \n",
      "                                                                 lstm_1[1][0]                     \n",
      "                                                                 lstm_1[1][2]                     \n",
      "                                                                 dot_1[3][0]                      \n",
      "                                                                 lstm_1[2][0]                     \n",
      "                                                                 lstm_1[2][2]                     \n",
      "                                                                 dot_1[4][0]                      \n",
      "                                                                 lstm_1[3][0]                     \n",
      "                                                                 lstm_1[3][2]                     \n",
      "                                                                 dot_1[5][0]                      \n",
      "                                                                 lstm_1[4][0]                     \n",
      "                                                                 lstm_1[4][2]                     \n",
      "                                                                 dot_1[6][0]                      \n",
      "                                                                 lstm_1[5][0]                     \n",
      "                                                                 lstm_1[5][2]                     \n",
      "                                                                 dot_1[7][0]                      \n",
      "                                                                 lstm_1[6][0]                     \n",
      "                                                                 lstm_1[6][2]                     \n",
      "                                                                 dot_1[8][0]                      \n",
      "                                                                 lstm_1[7][0]                     \n",
      "                                                                 lstm_1[7][2]                     \n",
      "                                                                 dot_1[9][0]                      \n",
      "                                                                 lstm_1[8][0]                     \n",
      "                                                                 lstm_1[8][2]                     \n",
      "__________________________________________________________________________________________________\n",
      "dense_3 (Dense)                 (None, 11)           715         lstm_1[0][0]                     \n",
      "                                                                 lstm_1[1][0]                     \n",
      "                                                                 lstm_1[2][0]                     \n",
      "                                                                 lstm_1[3][0]                     \n",
      "                                                                 lstm_1[4][0]                     \n",
      "                                                                 lstm_1[5][0]                     \n",
      "                                                                 lstm_1[6][0]                     \n",
      "                                                                 lstm_1[7][0]                     \n",
      "                                                                 lstm_1[8][0]                     \n",
      "                                                                 lstm_1[9][0]                     \n",
      "==================================================================================================\n",
      "Total params: 52,960\n",
      "Trainable params: 52,960\n",
      "Non-trainable params: 0\n",
      "__________________________________________________________________________________________________\n"
     ]
    }
   ],
   "source": [
    "model.summary()"
   ]
  },
  {
   "cell_type": "markdown",
   "metadata": {},
   "source": [
    "Navigate through the output of `model.summary()` above. You can see that the layer named `attention_weights` outputs the `alphas` of shape (m, 30, 1) before `dot_2` computes the context vector for every time step $t = 0, \\ldots, T_y-1$. Lets get the activations from this layer.\n",
    "\n",
    "The function `attention_map()` pulls out the attention values from your model and plots them."
   ]
  },
  {
   "cell_type": "code",
   "execution_count": 28,
   "metadata": {
    "scrolled": false
   },
   "outputs": [
    {
     "data": {
      "text/plain": [
       "<Figure size 432x288 with 0 Axes>"
      ]
     },
     "metadata": {},
     "output_type": "display_data"
    },
    {
     "data": {
      "image/png": "[encoded data removed]",
      "text/plain": [
       "<Figure size 576x612 with 2 Axes>"
      ]
     },
     "metadata": {
      "needs_background": "light"
     },
     "output_type": "display_data"
    }
   ],
   "source": [
    "attention_map = plot_attention_map(model, human_vocab, inv_machine_vocab, \"Tuesday 09 Oct 1993\", num = 7, n_s = 64)"
   ]
  },
  {
   "cell_type": "markdown",
   "metadata": {},
   "source": [
    "On the generated plot you can observe the values of the attention weights for each character of the predicted output. Examine this plot and check that where the network is paying attention makes sense to you.\n",
    "\n",
    "In the date translation application, you will observe that most of the time attention helps predict the year, and hasn't much impact on predicting the day/month."
   ]
  },
  {
   "cell_type": "markdown",
   "metadata": {},
   "source": [
    "### Congratulations!\n",
    "\n",
    "\n",
    "You have come to the end of this assignment \n",
    "\n",
    "<font color='blue'> **Here's what you should remember from this notebook**:\n",
    "\n",
    "- Machine translation models can be used to map from one sequence to another. They are useful not just for translating human languages (like French->English) but also for tasks like date format translation. \n",
    "- An attention mechanism allows a network to focus on the most relevant parts of the input when producing a specific part of the output. \n",
    "- A network using an attention mechanism can translate from inputs of length $T_x$ to outputs of length $T_y$, where $T_x$ and $T_y$ can be different. \n",
    "- You can visualize attention weights $\\alpha^{\\langle t,t' \\rangle}$ to see what the network is paying attention to while generating each output."
   ]
  },
  {
   "cell_type": "markdown",
   "metadata": {},
   "source": [
    "Congratulations on finishing this assignment! You are now able to implement an attention model and use it to learn complex mappings from one sequence to another. "
   ]
  }
 ],
 "metadata": {
  "coursera": {
   "course_slug": "nlp-sequence-models",
   "graded_item_id": "n16CQ",
   "launcher_item_id": "npjGi"
  },
  "kernelspec": {
   "display_name": "Python 3",
   "language": "python",
   "name": "python3"
  },
  "language_info": {
   "codemirror_mode": {
    "name": "ipython",
    "version": 3
   },
   "file_extension": ".py",
   "mimetype": "text/x-python",
   "name": "python",
   "nbconvert_exporter": "python",
   "pygments_lexer": "ipython3",
   "version": "3.7.4"
  }
 },
 "nbformat": 4,
 "nbformat_minor": 2
}
