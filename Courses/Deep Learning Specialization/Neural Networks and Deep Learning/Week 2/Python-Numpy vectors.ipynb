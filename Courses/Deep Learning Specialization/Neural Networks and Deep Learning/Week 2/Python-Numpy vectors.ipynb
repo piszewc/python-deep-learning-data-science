{
 "cells": [
  {
   "cell_type": "code",
   "execution_count": 1,
   "metadata": {},
   "outputs": [
    {
     "name": "stdout",
     "output_type": "stream",
     "text": [
      "[-0.12818301  0.04417561 -0.2917055  -0.47745213  0.22533749]\n"
     ]
    }
   ],
   "source": [
    "import numpy as np \n",
    "a = np.random.randn(5)\n",
    "print(a)"
   ]
  },
  {
   "cell_type": "code",
   "execution_count": 2,
   "metadata": {},
   "outputs": [
    {
     "name": "stdout",
     "output_type": "stream",
     "text": [
      "0.3822119900738125\n"
     ]
    }
   ],
   "source": [
    "print(np.dot(a,a.T))"
   ]
  },
  {
   "cell_type": "code",
   "execution_count": 3,
   "metadata": {},
   "outputs": [
    {
     "name": "stdout",
     "output_type": "stream",
     "text": [
      "[[ 0.37004569]\n",
      " [-1.39534323]\n",
      " [-0.09795645]\n",
      " [-0.71252582]\n",
      " [ 0.37252437]]\n"
     ]
    }
   ],
   "source": [
    "a = np.random.randn(5,1)\n",
    "print(a)"
   ]
  },
  {
   "cell_type": "code",
   "execution_count": 4,
   "metadata": {},
   "outputs": [
    {
     "name": "stdout",
     "output_type": "stream",
     "text": [
      "[[ 0.37004569 -1.39534323 -0.09795645 -0.71252582  0.37252437]]\n"
     ]
    }
   ],
   "source": [
    "print(a.T)"
   ]
  },
  {
   "cell_type": "code",
   "execution_count": 5,
   "metadata": {},
   "outputs": [
    {
     "name": "stdout",
     "output_type": "stream",
     "text": [
      "[[ 0.13693381 -0.51634075 -0.03624836 -0.26366711  0.13785104]\n",
      " [-0.51634075  1.94698274  0.13668287  0.99421808 -0.51979936]\n",
      " [-0.03624836  0.13668287  0.00959547  0.0697965  -0.03649116]\n",
      " [-0.26366711  0.99421808  0.0697965   0.50769304 -0.26543323]\n",
      " [ 0.13785104 -0.51979936 -0.03649116 -0.26543323  0.13877441]]\n"
     ]
    }
   ],
   "source": [
    "print(np.dot(a,a.T))"
   ]
  },
  {
   "cell_type": "code",
   "execution_count": null,
   "metadata": {},
   "outputs": [],
   "source": []
  }
 ],
 "metadata": {
  "kernelspec": {
   "display_name": "Python 3",
   "language": "python",
   "name": "python3"
  },
  "language_info": {
   "codemirror_mode": {
    "name": "ipython",
    "version": 3
   },
   "file_extension": ".py",
   "mimetype": "text/x-python",
   "name": "python",
   "nbconvert_exporter": "python",
   "pygments_lexer": "ipython3",
   "version": "3.7.1"
  }
 },
 "nbformat": 4,
 "nbformat_minor": 2
}
